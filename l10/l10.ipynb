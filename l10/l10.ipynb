{
 "cells": [
  {
   "cell_type": "markdown",
   "id": "e744665e-7420-433f-8463-a674b66492d5",
   "metadata": {},
   "source": [
    "# L3: Agentic Sales Pipeline"
   ]
  },
  {
   "cell_type": "markdown",
   "id": "ba547b65-bcbd-4931-b091-57155b49c275",
   "metadata": {},
   "source": [
    "<p style=\"background-color:#fff6e4; padding:15px; border-width:3px; border-color:#f5ecda; border-style:solid; border-radius:6px\"> ⏳ <b>Note <code>(Kernel Starting)</code>:</b> This notebook takes about 30 seconds to be ready to use. You may start and watch the video while you wait.</p>"
   ]
  },
  {
   "cell_type": "markdown",
   "id": "790ff40f-0146-47f9-84db-36997a267b8d",
   "metadata": {},
   "source": [
    "## Initial Imports"
   ]
  },
  {
   "cell_type": "code",
   "execution_count": 1,
   "id": "0e3c15b4-6886-4c22-a2a6-36005a50c035",
   "metadata": {
    "height": 200
   },
   "outputs": [],
   "source": [
    "# Warning control\n",
    "import warnings\n",
    "warnings.filterwarnings('ignore')\n",
    "\n",
    "# Load environment variables\n",
    "from helper import load_env\n",
    "load_env()\n",
    "\n",
    "import os\n",
    "import yaml\n",
    "from crewai import Agent, Task, Crew"
   ]
  },
  {
   "cell_type": "markdown",
   "id": "c00f0d70-628e-4626-b430-6a409e2d8382",
   "metadata": {},
   "source": [
    "<p style=\"background-color:#fff6ff; padding:15px; border-width:3px; border-color:#efe6ef; border-style:solid; border-radius:6px\"> 💻 &nbsp; <b>Access <code>requirements.txt</code> and <code>helper.py</code> files:</b> 1) click on the <em>\"File\"</em> option on the top menu of the notebook and then 2) click on <em>\"Open\"</em>. For more help, please see the <em>\"Appendix - Tips and Help\"</em> Lesson.</p>"
   ]
  },
  {
   "cell_type": "markdown",
   "id": "b8402a3e-5e30-4b5e-8fa9-bed7403a62a7",
   "metadata": {},
   "source": [
    "## Load API tokens for our 3rd party APIs"
   ]
  },
  {
   "cell_type": "code",
   "execution_count": 2,
   "id": "f5e31c2e-ab46-4c55-80ad-9841f422ffc7",
   "metadata": {
    "height": 30
   },
   "outputs": [],
   "source": [
    "os.environ['OPENAI_MODEL_NAME'] = 'gpt-4o-mini'"
   ]
  },
  {
   "cell_type": "markdown",
   "id": "3ec2797f-c0de-451e-a73b-bff04f981172",
   "metadata": {},
   "source": [
    "## Loading Tasks and Agents YAML files"
   ]
  },
  {
   "cell_type": "code",
   "execution_count": 3,
   "id": "4c943fa8-fda9-495c-9225-a841af833fea",
   "metadata": {
    "height": 336
   },
   "outputs": [],
   "source": [
    "# Define file paths for YAML configurations\n",
    "files = {\n",
    "    'lead_agents': 'config/lead_qualification_agents.yaml',\n",
    "    'lead_tasks': 'config/lead_qualification_tasks.yaml',\n",
    "    'email_agents': 'config/email_engagement_agents.yaml',\n",
    "    'email_tasks': 'config/email_engagement_tasks.yaml'\n",
    "}\n",
    "\n",
    "# Load configurations from YAML files\n",
    "configs = {}\n",
    "for config_type, file_path in files.items():\n",
    "    with open(file_path, 'r') as file:\n",
    "        configs[config_type] = yaml.safe_load(file)\n",
    "\n",
    "# Assign loaded configurations to specific variables\n",
    "lead_agents_config = configs['lead_agents']\n",
    "lead_tasks_config = configs['lead_tasks']\n",
    "email_agents_config = configs['email_agents']\n",
    "email_tasks_config = configs['email_tasks']"
   ]
  },
  {
   "cell_type": "markdown",
   "id": "7e25d7e2-143d-4223-b770-75c5dcaa257e",
   "metadata": {},
   "source": [
    "## Create Pydantic Models for Structured Output"
   ]
  },
  {
   "cell_type": "code",
   "execution_count": 4,
   "id": "792a5ecb-fbc3-43e5-a5aa-06882d9f3765",
   "metadata": {
    "height": 455
   },
   "outputs": [],
   "source": [
    "from pydantic import BaseModel, Field\n",
    "from typing import Dict, Optional, List, Set, Tuple\n",
    "\n",
    "class LeadPersonalInfo(BaseModel):\n",
    "    name: str = Field(..., description=\"The full name of the lead.\")\n",
    "    job_title: str = Field(..., description=\"The job title of the lead.\")\n",
    "    role_relevance: int = Field(..., ge=0, le=10, description=\"A score representing how relevant the lead's role is to the decision-making process (0-10).\")\n",
    "    professional_background: Optional[str] = Field(..., description=\"A brief description of the lead's professional background.\")\n",
    "\n",
    "class CompanyInfo(BaseModel):\n",
    "    company_name: str = Field(..., description=\"The name of the company the lead works for.\")\n",
    "    industry: str = Field(..., description=\"The industry in which the company operates.\")\n",
    "    company_size: int = Field(..., description=\"The size of the company in terms of employee count.\")\n",
    "    revenue: Optional[float] = Field(None, description=\"The annual revenue of the company, if available.\")\n",
    "    market_presence: int = Field(..., ge=0, le=10, description=\"A score representing the company's market presence (0-10).\")\n",
    "\n",
    "class LeadScore(BaseModel):\n",
    "    score: int = Field(..., ge=0, le=100, description=\"The final score assigned to the lead (0-100).\")\n",
    "    scoring_criteria: List[str] = Field(..., description=\"The criteria used to determine the lead's score.\")\n",
    "    validation_notes: Optional[str] = Field(None, description=\"Any notes regarding the validation of the lead score.\")\n",
    "\n",
    "class LeadScoringResult(BaseModel):\n",
    "    personal_info: LeadPersonalInfo = Field(..., description=\"Personal information about the lead.\")\n",
    "    company_info: CompanyInfo = Field(..., description=\"Information about the lead's company.\")\n",
    "    lead_score: LeadScore = Field(..., description=\"The calculated score and related information for the lead.\")"
   ]
  },
  {
   "cell_type": "markdown",
   "id": "6a68f357-7b55-4bf4-a011-27f3df6d1f11",
   "metadata": {},
   "source": [
    "## Importing Tools"
   ]
  },
  {
   "cell_type": "code",
   "execution_count": 5,
   "id": "ad39d218-6727-4055-8ea7-c1610631f4ab",
   "metadata": {
    "height": 30
   },
   "outputs": [],
   "source": [
    "from crewai_tools import SerperDevTool, ScrapeWebsiteTool"
   ]
  },
  {
   "cell_type": "markdown",
   "id": "7efd8c33-7009-4794-96b7-9a59c8669083",
   "metadata": {},
   "source": [
    "## Lead Qualification Crew, Agents and Tasks"
   ]
  },
  {
   "cell_type": "code",
   "execution_count": 6,
   "id": "57e0ba2e-a86a-4a20-ab38-62eb89abdf57",
   "metadata": {
    "height": 829
   },
   "outputs": [],
   "source": [
    "# Creating Agents\n",
    "lead_data_agent = Agent(\n",
    "  config=lead_agents_config['lead_data_agent'],\n",
    "  tools=[SerperDevTool(), ScrapeWebsiteTool()]\n",
    ")\n",
    "\n",
    "cultural_fit_agent = Agent(\n",
    "  config=lead_agents_config['cultural_fit_agent'],\n",
    "  tools=[SerperDevTool(), ScrapeWebsiteTool()]\n",
    ")\n",
    "\n",
    "scoring_validation_agent = Agent(\n",
    "  config=lead_agents_config['scoring_validation_agent'],\n",
    "  tools=[SerperDevTool(), ScrapeWebsiteTool()]\n",
    ")\n",
    "\n",
    "# Creating Tasks\n",
    "lead_data_task = Task(\n",
    "  config=lead_tasks_config['lead_data_collection'],\n",
    "  agent=lead_data_agent\n",
    ")\n",
    "\n",
    "cultural_fit_task = Task(\n",
    "  config=lead_tasks_config['cultural_fit_analysis'],\n",
    "  agent=cultural_fit_agent\n",
    ")\n",
    "\n",
    "scoring_validation_task = Task(\n",
    "  config=lead_tasks_config['lead_scoring_and_validation'],\n",
    "  agent=scoring_validation_agent,\n",
    "  context=[lead_data_task, cultural_fit_task],\n",
    "  output_pydantic=LeadScoringResult\n",
    ")\n",
    "\n",
    "# Creating Crew\n",
    "lead_scoring_crew = Crew(\n",
    "  agents=[\n",
    "    lead_data_agent,\n",
    "    cultural_fit_agent,\n",
    "    scoring_validation_agent\n",
    "  ],\n",
    "  tasks=[\n",
    "    lead_data_task,\n",
    "    cultural_fit_task,\n",
    "    scoring_validation_task\n",
    "  ],\n",
    "  verbose=True\n",
    ")"
   ]
  },
  {
   "cell_type": "markdown",
   "id": "80cec8e2-8aee-4abd-84c6-cde645f16e12",
   "metadata": {},
   "source": [
    "## Email Engagement Crew"
   ]
  },
  {
   "cell_type": "code",
   "execution_count": 7,
   "id": "fcd0e4d3-a150-4354-8deb-59c1758026fe",
   "metadata": {
    "height": 557
   },
   "outputs": [
    {
     "name": "stderr",
     "output_type": "stream",
     "text": [
      "2024-12-16 14:44:21,295 - 140537932993600 - __init__.py-__init__:537 - WARNING: Overriding of current TracerProvider is not allowed\n"
     ]
    }
   ],
   "source": [
    "# Creating Agents\n",
    "email_content_specialist = Agent(\n",
    "  config=email_agents_config['email_content_specialist']\n",
    ")\n",
    "\n",
    "engagement_strategist = Agent(\n",
    "  config=email_agents_config['engagement_strategist']\n",
    ")\n",
    "\n",
    "# Creating Tasks\n",
    "email_drafting = Task(\n",
    "  config=email_tasks_config['email_drafting'],\n",
    "  agent=email_content_specialist\n",
    ")\n",
    "\n",
    "engagement_optimization = Task(\n",
    "  config=email_tasks_config['engagement_optimization'],\n",
    "  agent=engagement_strategist\n",
    ")\n",
    "\n",
    "# Creating Crew\n",
    "email_writing_crew = Crew(\n",
    "  agents=[\n",
    "    email_content_specialist,\n",
    "    engagement_strategist\n",
    "  ],\n",
    "  tasks=[\n",
    "    email_drafting,\n",
    "    engagement_optimization\n",
    "  ],\n",
    "  verbose=True\n",
    ")"
   ]
  },
  {
   "cell_type": "markdown",
   "id": "38c235e8-9efd-4496-88fd-aa32b4744fb5",
   "metadata": {},
   "source": [
    "## Creating Complete Sales Flow"
   ]
  },
  {
   "cell_type": "code",
   "execution_count": 8,
   "id": "c6976784-c70c-4ec8-882a-12b1250f4354",
   "metadata": {
    "height": 812
   },
   "outputs": [],
   "source": [
    "from crewai import Flow\n",
    "from crewai.flow.flow import listen, start\n",
    "\n",
    "class SalesPipeline(Flow):\n",
    "    @start()\n",
    "    def fetch_leads(self):\n",
    "        # Pull our leads from the database\n",
    "        leads = [\n",
    "            {\n",
    "                \"lead_data\": {\n",
    "                    \"name\": \"João Moura\",\n",
    "                    \"job_title\": \"Director of Engineering\",\n",
    "                    \"company\": \"Clearbit\",\n",
    "                    \"email\": \"joao@clearbit.com\",\n",
    "                    \"use_case\": \"Using AI Agent to do better data enrichment.\"\n",
    "                },\n",
    "            },\n",
    "        ]\n",
    "        return leads\n",
    "\n",
    "    @listen(fetch_leads)\n",
    "    def score_leads(self, leads):\n",
    "        scores = lead_scoring_crew.kickoff_for_each(leads)\n",
    "        self.state[\"score_crews_results\"] = scores\n",
    "        return scores\n",
    "\n",
    "    @listen(score_leads)\n",
    "    def store_leads_score(self, scores):\n",
    "        # Here we would store the scores in the database\n",
    "        return scores\n",
    "\n",
    "    @listen(score_leads)\n",
    "    def filter_leads(self, scores):\n",
    "        return [score for score in scores if score['lead_score'].score > 70]\n",
    "\n",
    "    @listen(filter_leads)\n",
    "    def write_email(self, leads):\n",
    "        scored_leads = [lead.to_dict() for lead in leads]\n",
    "        emails = email_writing_crew.kickoff_for_each(scored_leads)\n",
    "        return emails\n",
    "\n",
    "    @listen(write_email)\n",
    "    def send_email(self, emails):\n",
    "        # Here we would send the emails to the leads\n",
    "        return emails\n",
    "\n",
    "flow = SalesPipeline()"
   ]
  },
  {
   "cell_type": "markdown",
   "id": "47a1d640-12d2-4dbd-8095-7fe47dbd729c",
   "metadata": {},
   "source": [
    "## Plotting the Flow"
   ]
  },
  {
   "cell_type": "code",
   "execution_count": 9,
   "id": "3c90a3f2-3bc1-446b-beff-4a02d84e72dd",
   "metadata": {
    "height": 30
   },
   "outputs": [
    {
     "name": "stdout",
     "output_type": "stream",
     "text": [
      "Plot saved as crewai_flow.html\n"
     ]
    }
   ],
   "source": [
    "flow.plot()"
   ]
  },
  {
   "cell_type": "code",
   "execution_count": 10,
   "id": "5cd8e46b-e2fa-45a1-ab35-aaa1f3f2e0ff",
   "metadata": {
    "height": 64
   },
   "outputs": [
    {
     "data": {
      "text/html": [
       "\n",
       "        <iframe\n",
       "            width=\"150%\"\n",
       "            height=\"600\"\n",
       "            src=\"./crewai_flow.html\"\n",
       "            frameborder=\"0\"\n",
       "            allowfullscreen\n",
       "            \n",
       "        ></iframe>\n",
       "        "
      ],
      "text/plain": [
       "<IPython.lib.display.IFrame at 0x7fd11c333730>"
      ]
     },
     "execution_count": 10,
     "metadata": {},
     "output_type": "execute_result"
    }
   ],
   "source": [
    "from IPython.display import IFrame\n",
    "\n",
    "IFrame(src='./crewai_flow.html', width='150%', height=600)"
   ]
  },
  {
   "cell_type": "markdown",
   "id": "6aa4aa2c-cbe5-49a4-8569-0fa8d2d59666",
   "metadata": {},
   "source": [
    "## Flow Kickoff"
   ]
  },
  {
   "cell_type": "code",
   "execution_count": 12,
   "id": "4f00316a-7d09-4533-af24-0842366e122f",
   "metadata": {
    "height": 30
   },
   "outputs": [
    {
     "name": "stderr",
     "output_type": "stream",
     "text": [
      "2024-12-16 14:46:08,719 - 140537932993600 - __init__.py-__init__:537 - WARNING: Overriding of current TracerProvider is not allowed\n"
     ]
    },
    {
     "name": "stdout",
     "output_type": "stream",
     "text": [
      "\u001b[1m\u001b[95m# Agent:\u001b[00m \u001b[1m\u001b[92mLead Data Specialist\u001b[00m\n",
      "\u001b[95m## Task:\u001b[00m \u001b[92mCollect and analyze the following information about the lead:\n",
      "- Personal Information:\n",
      "  - Name: Obtain the full name of the lead.\n",
      "  - Job Title: Determine the lead's current job title.\n",
      "  - Role Relevance: Assess how relevant the lead's role is to the decision-making process on a scale from 0 to 10.\n",
      "  - Professional Background: Optionally, gather a brief description of the lead's professional background.\n",
      "\n",
      "- Company Information:\n",
      "  - Company Name: Identify the name of the company the lead works for.\n",
      "  - Industry: Determine the industry in which the company operates.\n",
      "  - Company Size: Estimate the size of the company in terms of employee count.\n",
      "  - Revenue: If available, collect information on the annual revenue of the company.\n",
      "  - Market Presence: Evaluate the company's market presence on a scale from 0 to 10.\n",
      "\n",
      "- Our Company and Product:\n",
      "  - Company Name: CrewAI\n",
      "  - Product: Multi-Agent Orchestration Platform\n",
      "  - ICP: Enterprise companies looking into Agentic automation.\n",
      "  - Pitch: We are a platform that allows you to orchestrate AI Agents for automations to any vertical.\n",
      "\n",
      "-Lead Data:\n",
      "  {'name': 'João Moura', 'job_title': 'Director of Engineering', 'company': 'Clearbit', 'email': 'joao@clearbit.com', 'use_case': 'Using AI Agent to do better data enrichment.'}\n",
      "\u001b[00m\n",
      "\n",
      "\n",
      "\u001b[1m\u001b[95m# Agent:\u001b[00m \u001b[1m\u001b[92mLead Data Specialist\u001b[00m\n",
      "\u001b[95m## Thought:\u001b[00m \u001b[92mI need to gather detailed information about the lead, João Moura, and his company Clearbit. I will start by searching for personal information regarding João Moura, including his professional background.\u001b[00m\n",
      "\u001b[95m## Using tool:\u001b[00m \u001b[92mSearch the internet\u001b[00m\n",
      "\u001b[95m## Tool Input:\u001b[00m \u001b[92m\n",
      "\"{\\\"search_query\\\": \\\"Jo\\\\u00e3o Moura Director of Engineering Clearbit profile\\\"}\"\u001b[00m\n",
      "\u001b[95m## Tool Output:\u001b[00m \u001b[92m\n",
      "\n",
      "Search results: Title: Meet João Moura: Clearbit's Senior Engineering Manager\n",
      "Link: https://clearbit.com/blog/joao-moura\n",
      "Snippet: João Moura has always been a leader. And for the past 4 years, he has been building and scaling the Clearbit engineering team as Senior Engineering Manager.\n",
      "---\n",
      "Title: About me - Joao Moura\n",
      "Link: http://joaomdmoura.com/about/\n",
      "Snippet: Currently I'm an Engineering Manager at Clearbit, a fast growing company in the San Francisco, where I help manage and build some of the most incredible ...\n",
      "---\n",
      "Title: João (Joe) Moura on LinkedIn: #clearbit #hubspot #ai #leadership ...\n",
      "Link: https://www.linkedin.com/posts/joaomdmoura_clearbit-hubspot-ai-activity-7125492053857189888-G5DN?trk=public_profile_like_view\n",
      "Snippet: Founder at crewAI - Remote Team Leader | Product Strategy | Leadership | Expert in Ruby, Python, JavaScript, Elixir and Data Science\n",
      "---\n",
      "Title: Joao Moura - Crunchbase Person Profile\n",
      "Link: https://www.crunchbase.com/person/joao-moura\n",
      "Snippet: Joao Moura is the Engineering Manager at Clearbit. Additionally, Joao Moura has had 1 past job as the Senior Software Engineer at Ride.\n",
      "---\n",
      "Title: The Future of AI Agents - Joao Moura (CEO, CrewAI)\n",
      "Link: https://shomik.substack.com/p/the-future-of-ai-agents-joao-moura\n",
      "Snippet: Joao Moura is Founder & CEO of CrewAI, the leading multi-agent platform. He previously was Director of AI Engineering at Clearbit which was ...\n",
      "---\n",
      "Title: João Moura - EdgeIn.io\n",
      "Link: https://www.edgein.io/people/joao-moura/\n",
      "Snippet: View João Moura's profile on EdgeIn, the world's leading AI & Web3 data intelligence platform. João Moura has 1 jobs listed on their profile.\n",
      "---\n",
      "Title: joaomdmoura (João Moura) · GitHub\n",
      "Link: http://www.webremix.info/joaomdmoura.html\n",
      "Snippet: Director of AI Engineer at Clearbit, a Passionate Speaker that loves Open Source and writes at joaomdmoura.com - joaomdmoura.\n",
      "---\n",
      "Title: Highlights by João Moura (@joaomdmoura) / X\n",
      "Link: https://x.com/joaomdmoura/highlights\n",
      "Snippet: @clearbit. (acc by. @hubspot. ) Open Source enthusiast | Creator of Machinery ... I see a lot of people struggling with AI engineering for real use cases ...\n",
      "---\n",
      "Title: João Moura (@joaomdmoura) • Threads, Say more\n",
      "Link: https://www.threads.net/@joaomdmoura\n",
      "Snippet: 270 Followers • 172 Threads • Director of Engineering at @clearbit | Open Source enthusiast | Creator of Machinery | Public Speaker | Blog:...\n",
      "---\n",
      "Title: Clearbit - Facebook\n",
      "Link: https://www.facebook.com/clearbitinc/\n",
      "Snippet: From teaching a typing class at 13 to managing multiple engineering teams, João Moura has always been a leader. And for the past 4 years, he has been building ...\n",
      "---\n",
      "\u001b[00m\n",
      "\n",
      "\n",
      "\u001b[1m\u001b[95m# Agent:\u001b[00m \u001b[1m\u001b[92mLead Data Specialist\u001b[00m\n",
      "\u001b[95m## Thought:\u001b[00m \u001b[92mI have gathered enough preliminary information about João Moura, specifically regarding his current role and background. Now, I will gather relevant company information about Clearbit, including the industry it operates in, its company size, revenue (if available), and market presence.\u001b[00m\n",
      "\u001b[95m## Using tool:\u001b[00m \u001b[92mSearch the internet\u001b[00m\n",
      "\u001b[95m## Tool Input:\u001b[00m \u001b[92m\n",
      "\"{\\\"search_query\\\": \\\"Clearbit company profile industry size revenue\\\"}\"\u001b[00m\n",
      "\u001b[95m## Tool Output:\u001b[00m \u001b[92m\n",
      "\n",
      "Search results: Title: Leverage 100+ business data attributes - Clearbit\n",
      "Link: https://clearbit.com/attributes\n",
      "Snippet: Enrich your CRM and database, manage leads efficiently, and enable marketing personalization with over 100 business data points.\n",
      "---\n",
      "Title: Clearbit Company Profile 2024: Valuation, Investors, Acquisition\n",
      "Link: https://pitchbook.com/profiles/company/101066-86\n",
      "Snippet: What is the size of Clearbit? Clearbit has 116 total employees. What industry is Clearbit in? Clearbit's primary industry is Business/Productivity Software.\n",
      "---\n",
      "Title: Clearbit - Company Profile - Tracxn\n",
      "Link: https://tracxn.com/d/companies/clearbit/__Ce8LwLChfXW6bZzY3dPGa0_FQQTE-gGHyGdZnzdvqT4\n",
      "Snippet: Clearbit - Business Intelligence APIs for Lead generation and enrichment. Acquired by HubSpot. Raised a total funding of $2M over 1 round ...\n",
      "---\n",
      "Title: Clearbit Information - RocketReach\n",
      "Link: https://rocketreach.co/clearbit-profile_b5a7f4d5f75d56fc\n",
      "Snippet: What is the annual revenue of Clearbit? The Clearbit annual revenue was $41.6 million in 2024.\n",
      "---\n",
      "Title: Fit: firmographic and employment data - Clearbit\n",
      "Link: https://clearbit.com/resources/books/b2b-data/firmographic-demographic\n",
      "Snippet: Firmographic data: company information, like size, type, industry, revenue, etc., indicating whether the company is a good fit for your product or service.\n",
      "---\n",
      "Title: Clearbit - Products, Competitors, Financials, Employees ...\n",
      "Link: https://www.cbinsights.com/company/clearbit\n",
      "Snippet: Clearbit provides business-to-business (B2B) marketing intelligence solutions. Use the CB Insights Platform to explore Clearbit's full profile.\n",
      "---\n",
      "Title: Clearbit company information, funding & investors | Dealroom.co\n",
      "Link: https://app.dealroom.co/companies/clearbit\n",
      "Snippet: Clearbit is a business-to-business (B2B) data activation platform that specializes in marketing intelligence.\n",
      "---\n",
      "Title: Clearbit - Crunchbase Company Profile & Funding\n",
      "Link: https://www.crunchbase.com/organization/clearbit\n",
      "Snippet: Clearbit develops business intelligence application program interface tools designed to help companies to find information about their customers.\n",
      "---\n",
      "Title: Clearbit Reviews, Ratings & Features 2024 | Gartner Peer Insights\n",
      "Link: https://www.gartner.com/reviews/market/revenue-data-solutions/vendor/clearbit/product/clearbit\n",
      "Snippet: World-class tool for data and information. Reviewed on Mar 15, 2020. Reviewer Function: IT; Company Size: 500M - 1B USD; Industry: Finance (non-banking) ...\n",
      "---\n",
      "\u001b[00m\n",
      "\n",
      "\n",
      "\u001b[1m\u001b[95m# Agent:\u001b[00m \u001b[1m\u001b[92mLead Data Specialist\u001b[00m\n",
      "\u001b[95m## Final Answer:\u001b[00m \u001b[92m\n",
      "```json\n",
      "{\n",
      "  \"personal_information\": {\n",
      "    \"name\": \"João Moura\",\n",
      "    \"job_title\": \"Director of Engineering\",\n",
      "    \"role_relevance\": 8,\n",
      "    \"professional_background\": \"João Moura has a strong background in engineering leadership, previously serving as Senior Engineering Manager and now as Director at Clearbit. He is known for his expertise in Ruby, Python, JavaScript, Elixir, and Data Science. Additionally, he is the founder and CEO of CrewAI, focusing on AI-driven automation technologies.\"\n",
      "  },\n",
      "  \"company_information\": {\n",
      "    \"company_name\": \"Clearbit\",\n",
      "    \"industry\": \"Business/Productivity Software\",\n",
      "    \"company_size\": 116,\n",
      "    \"revenue\": 41600000,\n",
      "    \"market_presence\": 7\n",
      "  }\n",
      "}\n",
      "```\u001b[00m\n",
      "\n",
      "\n",
      "\u001b[1m\u001b[95m# Agent:\u001b[00m \u001b[1m\u001b[92mCultural Fit Analyst\u001b[00m\n",
      "\u001b[95m## Task:\u001b[00m \u001b[92mAssess the cultural alignment between the lead's company and our organization by considering the following:\n",
      "  - Cultural Values: Analyze the company's publicly stated values and internal culture (e.g., innovation, sustainability, employee engagement).\n",
      "  - Strategic Alignment: Evaluate how well the company's goals and mission align with our organization's strategic objectives.\n",
      "  - Qualitative Scoring: Assign a qualitative score (0-10) representing the overall cultural fit.\n",
      "  - Comments: Provide additional comments or observations that support the cultural fit score.\n",
      "\n",
      "- Our Company and Product:\n",
      "  - Company Name: CrewAI\n",
      "  - Product: Multi-Agent Orchestration Platform\n",
      "  - ICP: Enterprise companies looking into Agentic automation.\n",
      "  - Pitch: We are a platform that allows you to orchestrate AI Agents for automations to any vertical.\n",
      "\n",
      "- Lead Data:\n",
      "  {'name': 'João Moura', 'job_title': 'Director of Engineering', 'company': 'Clearbit', 'email': 'joao@clearbit.com', 'use_case': 'Using AI Agent to do better data enrichment.'}\n",
      "\u001b[00m\n",
      "\n",
      "\n",
      "\u001b[1m\u001b[95m# Agent:\u001b[00m \u001b[1m\u001b[92mCultural Fit Analyst\u001b[00m\n",
      "\u001b[95m## Thought:\u001b[00m \u001b[92mI need to gather information about Clearbit to assess its cultural values and strategic alignment with CrewAI. I will search for Clearbit's values, mission statement, and any insights into its internal culture, especially focusing on aspects like innovation, sustainability, and employee engagement.\u001b[00m\n",
      "\u001b[95m## Using tool:\u001b[00m \u001b[92mSearch the internet\u001b[00m\n",
      "\u001b[95m## Tool Input:\u001b[00m \u001b[92m\n",
      "\"{\\\"search_query\\\": \\\"Clearbit company values and culture\\\"}\"\u001b[00m\n",
      "\u001b[95m## Tool Output:\u001b[00m \u001b[92m\n",
      "\n",
      "Search results: Title: Defining Clearbit's company values\n",
      "Link: https://clearbit.com/blog/company-values\n",
      "Snippet: Values provide a constitution for company culture, a rubric for how you work together. Here's how Clearbit came up with our company values ...\n",
      "---\n",
      "Title: Clearbit Mission, Values, Culture & Jobs - Teal\n",
      "Link: https://www.tealhq.com/company/clearbit\n",
      "Snippet: Continuous Improvement: Clearbit fosters a culture of continuous improvement, encouraging employees to learn, grow, and innovate to drive the company forward.\n",
      "---\n",
      "Title: Clearbit Digital Marketing Team Culture | ClickThrough\n",
      "Link: https://clickthrough.marketing/clearbit-team-values/\n",
      "Snippet: Core Values. Lives Their Mission; Supports Professional Development; Work/Life Balance; Encourages Ownership ...\n",
      "---\n",
      "Title: Mission, Vision & Core Values of Clearbit - CBM\n",
      "Link: https://canvasbusinessmodel.com/blogs/mission/clearbit-mission\n",
      "Snippet: Core values serve as a moral compass, helping employees make ethical choices and fostering a sense of unity and purpose within the organization.\n",
      "---\n",
      "Title: Searching for healthier revenue — the process behind ... - Clearbit\n",
      "Link: https://clearbit.com/blog/ideal-customer-profile-process\n",
      "Snippet: See the step-by-step analysis behind how we redefined our ideal customer profile and what shifted our thinking about growth and revenue.\n",
      "---\n",
      "Title: Values interviews - The Manager's Handbook\n",
      "Link: https://themanagershandbook.com/hiring-and-onboarding/interviewing/values-interviews\n",
      "Snippet: At Clearbit, we place a particular emphasis on building a close-knit team. We want to work with people whom we also enjoy spending time with.\n",
      "---\n",
      "Title: Leverage 100+ business data attributes - Clearbit\n",
      "Link: https://clearbit.com/attributes\n",
      "Snippet: See all possible values. leadership. Employment Sub Role. The person's standardized sub role at the company they work for based on their title. See all ...\n",
      "---\n",
      "Title: Clearbit is Now Breeze Intelligence for HubSpot\n",
      "Link: https://clearbit.com/\n",
      "Snippet: Now reinvented with Artificial Intelligence—Clearbit is the first HubSpot Native Data Provider. Enrich your records, score, route, and reveal buying intent ...\n",
      "---\n",
      "Title: Welcoming Clearbit to the HubSpot Team\n",
      "Link: https://www.hubspot.com/company-news/welcoming-clearbit-to-hubspot\n",
      "Snippet: Clearbit was founded in 2014 and has made it its mission to collect amazingly rich and useful data about millions of companies – and build ...\n",
      "---\n",
      "Title: Crushing Corporate Culture: Lessons from Five Companies Who Do ...\n",
      "Link: https://josephcwells.com/blog/corporate-culture\n",
      "Snippet: This section barely scratches the surface of the value captured in Scribe's Culture Bible. You can read the whole thing here. Clearbit on ...\n",
      "---\n",
      "\u001b[00m\n",
      "\n",
      "\n",
      "\u001b[1m\u001b[95m# Agent:\u001b[00m \u001b[1m\u001b[92mCultural Fit Analyst\u001b[00m\n",
      "\u001b[95m## Thought:\u001b[00m \u001b[92mThought: I have found several potential sources that could provide insights into Clearbit's cultural values and internal environment. I will read the content from the most relevant links to gather in-depth information about Clearbit's values, mission, and culture.\u001b[00m\n",
      "\u001b[95m## Using tool:\u001b[00m \u001b[92mRead website content\u001b[00m\n",
      "\u001b[95m## Tool Input:\u001b[00m \u001b[92m\n",
      "\"{\\\"website_url\\\": \\\"https://www.tealhq.com/company/clearbit\\\"}\"\u001b[00m\n",
      "\u001b[95m## Tool Output:\u001b[00m \u001b[92m\n",
      "Clearbit Mission, Values, Culture & Jobs\n",
      "Log in Sign up Log in AI Resume Builder Job Application Tracker\n",
      "Tools\n",
      "AI Resume Builder Make your resume stand out by quickly customizing it to each application and applying to more jobs.\n",
      "Job Application Tracker Keep track of your job applications and manage your full job search, all in one place.\n",
      "Resume Job Description Match Quickly match and compare your existing resume to the job description of any role for a personalized Match Score.\n",
      "Resume Bullet Point Generator Generate metric-focused resume bullet points that highlight your biggest career achievements.\n",
      "Resume Checker Quickly check your current resume score to see how it stacks up to the job you're applying to.\n",
      "Cover Letter Generator Accelerate your job search with Teal's AI-powered Cover Letter Generator, write a tailored cover letter in seconds.\n",
      "Resume Summary Generator Take your current resume to the next level and generate a tailored, attention-grabbing summary that makes an impact.\n",
      "See All Tools --> Explore Teal's full suite of tools.\n",
      "More Career Resources\n",
      "Career Hub Visit the blog to see job search strategies, resume tips, cover letter tactics, and more insights.\n",
      "Tech Job Board Millions of jobs, daily updates, and curated job seeker insights to help you find the right role.\n",
      "Cover Letter Templates Choose from over 100 professionally designed cover letter templates for your next application.\n",
      "Resume Examples 1,500+ resume examples and job-specific guidance to help you nail your next resume.\n",
      "Resume Templates Hit the ground running with an official Teal resume template designed with best practices.\n",
      "Resume Synonyms Use our library of 900+ synonyms to find the perfect words for your next resume.\n",
      "Cover Letter Examples 1,500+ cover letter examples to help you craft a meaningful narrative in your next application.\n",
      "CV Examples Explore 1,500+ CV samples and formatting tips to land your next interview faster.\n",
      "Career Paths Discover your ideal career path with our in-depth career guides for over 500 roles. Sign up Tech Companies\n",
      "Job List\n",
      "Clearbit Clearbit Clearbit develops business intelligence to help companies find more information of customers in order to increase sales and reduce fraud.\n",
      "Website\n",
      "See Jobs About Clearbit develops business intelligence to help companies find more information of customers in order to increase sales and reduce fraud. Alex McCaw, Harlow Ward, and Rob Holland founded Clearbit in 2014, with its headquarters in San Francisco in California.\n",
      " Mission Clearbit's core mission is centered around empowering businesses to understand and engage with their customers more effectively through data-driven insights. By providing a comprehensive suite of data enrichment and lead generation tools, Clearbit aims to revolutionize the way organizations approach marketing, sales, and customer success. Their commitment to delivering accurate, real-time data enables businesses to make informed decisions and foster meaningful connections with their target audience, ultimately driving growth and success in the competitive tech landscape.\n",
      " Employee Benefits Core Values\n",
      "Transparency: Clearbit values transparency in all aspects of the company, from communication with employees to product development, to build trust and accountability.\n",
      "Empathy: Clearbit prioritizes empathy in its interactions with customers, employees, and the community, striving to understand and meet their needs.\n",
      "Continuous Improvement: Clearbit fosters a culture of continuous improvement, encouraging employees to learn, grow, and innovate to drive the company forward.\n",
      "Ownership: Clearbit empowers employees to take ownership of their work and make decisions that positively impact the company and its customers.\n",
      "Clearbit Leadership Alex MacCaw Hacker and Co-Founder Matt Sornson Board Advisor Harlow Ward Head of Engineering and Co-Founder Open Jobs No items found. Recent Hiring News Clearbit Expands ‘Powered By’ Program With Free Data and Flexible Pricing Clearbit Adds Data, More Flexible Pricing To B2B Service Similar Companies Amplitude Amplitude is a product intelligence platform that provides digital product tools that help teams run and grow their businesses.\n",
      " BigID BigID is a data intelligence company developing software that helps companies secure customer data and satisfy privacy regulations.\n",
      " Databento Pay-as-you-go for financial data.\n",
      " DataKind DataKind is a global nonprofit that harnesses the power of data science in the service of humanity.\n",
      " Heap Heap is a platform that provides analytics infrastructure to reduce the annoying parts of user analytics.\n",
      " Similarweb SimilarWeb offers an AI-based market intelligence platform that helps monitor web and mobile app traffic.\n",
      " Visit Website\n",
      "Location\n",
      "San Francisco, CA N/A Company Size\n",
      "101-250 N/A Industries B2B Business Intelligence Developer APIs Data and Analytics Software N/A Revenue Range $1M to $10M N/A Valuation $250,000,000 N/A Founded 2015-01-01 N/A Current Status Operating N/A Work Mode Open Roles 0 Hiring Now Hiring now ATS\n",
      "Lever N/A\n",
      "Funding Total Funding $ 17000000 Funding Rounds 2 Num Investors 6 Work Mode IPO Status Private Funding Stage Early Stage Venture Last Funding Date 2019-03-19 Last Funding Type Series A Hiring Now Hiring now Track & Research Clearbit for Your Next Interview Start Tracking for Free\n",
      "Related Searches B2B companies Business Intelligence companies Developer APIs companies Data and Analytics companies Software companies Want Jobs in Your Inbox? Sign up for the Teal newsletter and get career guidance and new jobs weekly! Thank you! Your submission has been received! Oops! Please provide a correct email address\n",
      "Tools AI Resume Builder Job Application Tracker Resume Checker Cover Letter Generator Resume Summary Generator Resume Job Description Match Resume Bullet Point Generator LinkedIn Resume Builder Career Hubs Career Hub Career Paths Resume Examples Resume Templates Cover Letter Examples Cover Letter Templates Resume Synonyms CV Examples Guides ChatGPT for Resumes ChatGPT for Cover Letters How to Make a Resume About Me in Resume Resume Summary Examples Resume Skills Section Resume Accomplishments Job Board Company Sign Up Teal+ Pricing Log In How it Works About Us Contact Us Open Positions Affiliate Program © 2024 Teal Labs, Inc Privacy Policy Terms of Service\n",
      "\u001b[00m\n",
      "\n",
      "\n",
      "\u001b[1m\u001b[95m# Agent:\u001b[00m \u001b[1m\u001b[92mCultural Fit Analyst\u001b[00m\n",
      "\u001b[95m## Thought:\u001b[00m \u001b[92mThought: I have gathered some information on Clearbit’s values and mission. The company emphasizes transparency, empathy, continuous improvement, and ownership in its culture. Now, I will explore another source to gain a more comprehensive understanding of Clearbit's culture and values, especially any focus on innovation and employee engagement.\u001b[00m\n",
      "\u001b[95m## Using tool:\u001b[00m \u001b[92mRead website content\u001b[00m\n",
      "\u001b[95m## Tool Input:\u001b[00m \u001b[92m\n",
      "\"{\\\"website_url\\\": \\\"https://clearbit.com/blog/company-values\\\"}\"\u001b[00m\n",
      "\u001b[95m## Tool Output:\u001b[00m \u001b[92m\n",
      "Defining Clearbit's company values Clearbit customer login Blog > Defining Clearbit's company values Defining Clearbit's company values Matt Sornson | August 12, 2019 | 4 minute read In mid-2018, Clearbit was hitting an inflection point.\n",
      "Since our founding in 2014, we'd been running as a small, hyper-efficient, and profitable business. Just about everyone in the company would weigh in on new hires, and every new employee spent significant time with the entire leadership team to understand what our values were. This organic model started to show some cracks as we started to scale.\n",
      "At thirty-odd employees, Clearbit did already have a real set of values, even if not everyone could verbalize them. In line with how we were building the company — deliberately and with a close eye on creating a culture we all wanted to be a part of — it was time to get official. The challenge: to codify and articulate our internal operating principles.\n",
      "We've effectively tripled our team, while maintaining an incredibly high bar and preserving the culture we all cherish. Choosing and then using our values has been instrumental in that success.\n",
      "Surfacing values, from the bottom up\n",
      "We believe that values should be a reflection of the entire team, not just the CEO or leadership. So when we set out to formalize Clearbit's, we started by asking the team.\n",
      "We sent out a survey to every employee, asking them to submit up to three values that they thought best described our culture. Of equal importance, we asked that they nominate the person at Clearbit they thought best exemplified that value.\n",
      "We were expecting to see a wide array of suggestions and had anticipated that the responses would require some serious workshopping to produce a final set. Incredibly, from the over 70 value suggestions, ALL of them could be grouped into 7 themes.\n",
      "being customer centric / empathy for customers\n",
      "learning\n",
      "excellence / hard work\n",
      "self-sufficiency\n",
      "fun\n",
      "honest communication\n",
      "team\n",
      "We took this list and reworked them to sound as Clearbit-y as possible, which ended up being really easy as we had dozens of variations pre-written by everyone who had submitted ideas. We also combined two of the suggestions, as excellence and learning are inseparable in our minds.\n",
      "Clearbit's Values\n",
      "Care (Give a shit) . Empathize with customers. Take the time to understand their frustrations, needs, and desires.\n",
      "Craft (Master it) . Own your craft. Never stop learning and improving.\n",
      "Team (Work together) . Teamwork makes the dream work. Fill gaps. There’s no such thing as “it’s not my job.”\n",
      "Truth (Say it) . Be upfront and candid. Say it like it is. Hold yourself and others accountable.\n",
      "Initiative (Be resourceful) . Don’t wait for permission. Figure it out — or figure out who can.\n",
      "Fun (Have it) . Don’t take yourself too seriously — life is short.\n",
      "So how do we actually use our values?\n",
      "Even the most thoughtfully-produced company values don't matter unless they're put into practice and used tactically. And when they're not actively referenced and applied across the company, they become an out-of-mind list that merely exists as a slide or rarely-opened document.\n",
      "Hiring rubric \n",
      "We built value testing into our hiring rubric and created semi-standardized questions that let us investigate without having to ask questions like, \"are you a team player?\".\n",
      "Person of the week \n",
      "Every week at our all-hands meeting, we highlight one value and a person whose actions best exemplifies that value. This regular practice helps new people get acclimated and gives shape to a list of values they see in their onboarding docs. It also regularly reinforces the values across the company, providing repetition around what they are and a nice moment of recognition and appreciation for team members.\n",
      "Feedback \n",
      "We take feedback seriously here at Clearbit and have worked to weave our values into that process — both by celebrating when someone really is leaning into a value and recognizing the learning moments when we fail to (which we all do sometimes).\n",
      "Values are alive!\n",
      "Our list of values is a living document that will evolve and change as we do. A company culture inevitably changes, and our values need to grow with us. If the values don't align or resonate with the individual values of our team, it's time to change.\n",
      "results of an internal survey measuring alignment between personal and company values\n",
      "Having integrity with our values is what builds trust in our relationships, and because we believe trust is the most basic building block of any organization, we commit to checking back on an annual basis to make sure we have values that truly represent our culture.\n",
      "It's easy to discount corporate values as just lip service and nice words to stick on the wall. However, when carefully created and implemented, values provide a constitution for your company culture, a true rubric that helps you hire, fire, promote, retain, and celebrate your team.\n",
      "Company The Standard in B2B Data The all new Clearbit. AI powered and free to get started. Create a Free Account The all new Clearbit. Rebuilt with AI and free to try. Company by Matt Sornson   on September 06, 2023 In the last 4 months we’ve gone AI Native and shipped over 100 improvements to these datasets. With LLMs and some data black magic we've significantly increased our coverage and accuracy, and released a few all-new attributes.\n",
      "Read more Our promise to be the best in B2B data Company by Matt Sornson   on July 11, 2023 Clearbit Global Coverage – delivering on our promise to be the best in B2B data.\n",
      "International coverage on companies, contact, and buying intent. Millions of new companies, 250M new contacts, and so much more. Read more The Standard in B2B Data Now reinvented with Artificial Intelligence—Clearbit is the first AI Native Data Provider. Enrich your records, reveal buying intent, and connect with your ideal customers. Create a Free Account Resources Blog Free Tools Guides Books Webinars Newsletter Release Notes Information Data Attributes Support Company About Us Careers Press Customers Trust Center Privacy Policy Status Support Legal Do Not Sell My Info Manage Cookies © 2024 Clearbit\n",
      "\n",
      "\n",
      "You ONLY have access to the following tools, and should NEVER make up tools that are not listed here:\n",
      "\n",
      "Tool Name: Search the internet\n",
      "Tool Arguments: {'search_query': {'description': 'Mandatory search query you want to use to search the internet', 'type': 'str'}}\n",
      "Tool Description: A tool that can be used to search the internet with a search_query.\n",
      "Tool Name: Read website content\n",
      "Tool Arguments: {'website_url': {'description': 'Mandatory website url to read the file', 'type': 'str'}}\n",
      "Tool Description: A tool that can be used to read a website content.\n",
      "\n",
      "Use the following format:\n",
      "\n",
      "Thought: you should always think about what to do\n",
      "Action: the action to take, only one name of [Search the internet, Read website content], just the name, exactly as it's written.\n",
      "Action Input: the input to the action, just a simple python dictionary, enclosed in curly braces, using \" to wrap keys and values.\n",
      "Observation: the result of the action\n",
      "\n",
      "Once all necessary information is gathered:\n",
      "\n",
      "Thought: I now know the final answer\n",
      "Final Answer: the final answer to the original input question\n",
      "\u001b[00m\n",
      "\n",
      "\n",
      "\u001b[1m\u001b[95m# Agent:\u001b[00m \u001b[1m\u001b[92mCultural Fit Analyst\u001b[00m\n",
      "\u001b[95m## Final Answer:\u001b[00m \u001b[92m\n",
      "- **Cultural Fit Score**: **9/10**  \n",
      "- **Supporting Analysis and Comments**: Clearbit demonstrates a strong alignment with our company values, focusing on empathy, improvement, and collaboration, which mirrors CrewAI’s objectives in AI-driven automation. Their commitment to transparency and fun, alongside a focus on continuous learning, creates a vibrant workplace culture that would enhance a partnership. Given these insights, the cultural alignment appears very promising for a fruitful collaboration in the future.\u001b[00m\n",
      "\n",
      "\n",
      "\u001b[1m\u001b[95m# Agent:\u001b[00m \u001b[1m\u001b[92mLead Scorer and Validator\u001b[00m\n",
      "\u001b[95m## Task:\u001b[00m \u001b[92mAggregate the collected data and perform the following steps: - Score Calculation: Based on predefined criteria, calculate a final lead score (0-100). Consider factors such as:\n",
      "  - Role Relevance\n",
      "  - Company Size\n",
      "  - Market Presence\n",
      "  - Cultural Fit\n",
      "- Scoring Criteria Documentation: List the criteria used to determine the score. - Validation: Review the collected data and the calculated score for consistency and accuracy. Make adjustments if necessary. - Final Report: Compile a summary report that includes the final validated lead score, the criteria used, and any validation notes.\n",
      "- Our Company and Product:\n",
      "  - Company Name: CrewAI\n",
      "  - Product: Multi-Agent Orchestration Platform\n",
      "  - ICP: Enterprise companies looking into Agentic automation.\n",
      "  - Pitch: We are a platform that allows you to orchestrate AI Agents for automations to any vertical.\n",
      "\n",
      "- Lead Data:\n",
      "  {'name': 'João Moura', 'job_title': 'Director of Engineering', 'company': 'Clearbit', 'email': 'joao@clearbit.com', 'use_case': 'Using AI Agent to do better data enrichment.'}\n",
      "\u001b[00m\n",
      "\n",
      "\n",
      "\u001b[1m\u001b[95m# Agent:\u001b[00m \u001b[1m\u001b[92mLead Scorer and Validator\u001b[00m\n",
      "\u001b[95m## Thought:\u001b[00m \u001b[92mI need to determine the final lead score for João Moura based on the collected data. First, I will aggregate the information to ensure I have all the necessary details to perform the score calculation accurately.\u001b[00m\n",
      "\u001b[95m## Using tool:\u001b[00m \u001b[92mRead website content\u001b[00m\n",
      "\u001b[95m## Tool Input:\u001b[00m \u001b[92m\n",
      "\"{\\\"website_url\\\": \\\"https://clearbit.com\\\"}\"\u001b[00m\n",
      "\u001b[95m## Tool Output:\u001b[00m \u001b[92m\n",
      "Clearbit is Now Breeze Intelligence for HubSpot Clearbit customer login Clearbit has joined HubSpot! The best B2B data provider is now part of the best B2B customer platform! Breeze Intelligence for HubSpot To reach the right audiences and get the most out of AI, you need the right data. With Breeze Intelligence, you ‌get a full picture of your prospects and customers — making your marketing, sales, and service efforts even more effective. Check out Breeze! A data foundation you can build on We gather public data from the web, our proprietary data, and the power of LLMs to convert unstructured information into precise and standardized data sets. Get access to clean, precise, and reliable data that your B2B team needs to go-to-market. Data for leads, contacts, and accounts Enrich every single record Global coverage across every country, in any language. Starting with the most precise data sources, we then incorporate all other available sources to offer you the optimal combination of accuracy and coverage. Focus on what matters Score & route instantly The data you need to score and route every lead, in real-time. Identify your high fit leads in real time and focus your team's efforts where they matter most. Best in class industry info. The most granular possible industry categorization, including 6 digit NAICS, GICS, and SIC. Corporate Hierarchies. Understand parent companies and subsidiaries to route the right lead to the right rep. Normalized Role & Seniority. Turn titles into a standardized set of roles and seniorities to easily map your systems to your Ideal Customer Profile. Identify hidden intent Reveal buying intent Turn your anonymous website traffic into real buying intent signals with our best-in-class IP intelligence data. The visitor dashboard highlights companies that match your ideal customer profile, enabling you to concentrate outbound efforts on qualified companies that are showing interest. Form shortening Shorter forms convert better Reduce friction be removing fields that Clearbit can enrich simply by collecting an email address. Dynamic Form Shortening only shows necessary fields if an enrichment value isn't available ensuring 100% data coverage for your leads. Trust Center Privacy Policy Status Support Legal Do Not Sell My Info Manage Cookies © 2024 Clearbit\u001b[00m\n"
     ]
    },
    {
     "name": "stderr",
     "output_type": "stream",
     "text": [
      "2024-12-16 14:46:54,788 - 140537932993600 - __init__.py-__init__:537 - WARNING: Overriding of current TracerProvider is not allowed\n"
     ]
    },
    {
     "name": "stdout",
     "output_type": "stream",
     "text": [
      "\n",
      "\n",
      "\u001b[1m\u001b[95m# Agent:\u001b[00m \u001b[1m\u001b[92mLead Scorer and Validator\u001b[00m\n",
      "\u001b[95m## Final Answer:\u001b[00m \u001b[92m\n",
      "{\n",
      "  \"personal_info\": {\n",
      "    \"name\": \"João Moura\",\n",
      "    \"job_title\": \"Director of Engineering\",\n",
      "    \"role_relevance\": 8,\n",
      "    \"professional_background\": \"João Moura has a strong background in engineering leadership, previously serving as Senior Engineering Manager and now as Director at Clearbit. He is known for his expertise in Ruby, Python, JavaScript, Elixir, and Data Science. Additionally, he is the founder and CEO of CrewAI, focusing on AI-driven automation technologies.\"\n",
      "  },\n",
      "  \"company_info\": {\n",
      "    \"company_name\": \"Clearbit\",\n",
      "    \"industry\": \"Business/Productivity Software\",\n",
      "    \"company_size\": 116,\n",
      "    \"revenue\": 41600000,\n",
      "    \"market_presence\": 7\n",
      "  },\n",
      "  \"lead_score\": {\n",
      "    \"score\": 78,\n",
      "    \"scoring_criteria\": [\"Role Relevance: 8\", \"Company Size: 7\", \"Market Presence: 7\", \"Cultural Fit: 9\"],\n",
      "    \"validation_notes\": \"The collected data aligns well with predefined scoring criteria. Weights assigned represent the importance of each criterion appropriately.\"\n",
      "  }\n",
      "}\u001b[00m\n",
      "\n",
      "\n",
      "\u001b[1m\u001b[95m# Agent:\u001b[00m \u001b[1m\u001b[92mEmail Content Writer\u001b[00m\n",
      "\u001b[95m## Task:\u001b[00m \u001b[92mCraft a highly personalized email using the lead's name, job title, company information, and any relevant personal or company achievements. The email should speak directly to the lead's interests and the needs of their company. This is not as cold outreach as it is a follow up to a lead form, so keep it short and to the point. Don't use any salutations or closing remarks, nor too complex sentences.\n",
      "Our Company and Product: - Company Name: CrewAI - Product: Multi-Agent Orchestration Platform - ICP: Enterprise companies looking into Agentic automation. - Pitch: We are a platform that allows you to orchestrate AI Agents for automations to any vertical.\n",
      "Use the following information: Personal Info: {'name': 'João Moura', 'job_title': 'Director of Engineering', 'role_relevance': 8, 'professional_background': 'João Moura has a strong background in engineering leadership, previously serving as Senior Engineering Manager and now as Director at Clearbit. He is known for his expertise in Ruby, Python, JavaScript, Elixir, and Data Science. Additionally, he is the founder and CEO of CrewAI, focusing on AI-driven automation technologies.'} Company Info: {'company_name': 'Clearbit', 'industry': 'Business/Productivity Software', 'company_size': 116, 'revenue': 41600000.0, 'market_presence': 7} Lead Score: {'score': 78, 'scoring_criteria': ['Role Relevance: 8', 'Company Size: 7', 'Market Presence: 7', 'Cultural Fit: 9'], 'validation_notes': 'The collected data aligns well with predefined scoring criteria. Weights assigned represent the importance of each criterion appropriately.'}\n",
      "\u001b[00m\n",
      "\n",
      "\n",
      "\u001b[1m\u001b[95m# Agent:\u001b[00m \u001b[1m\u001b[92mEmail Content Writer\u001b[00m\n",
      "\u001b[95m## Final Answer:\u001b[00m \u001b[92m\n",
      "João, with your extensive engineering background and leadership experience at Clearbit, I can see how crucial effective automation solutions are for your team. Given Clearbit's commitment to providing business productivity software, our Multi-Agent Orchestration Platform can help you streamline processes and enhance productivity across your engineering projects. \n",
      "\n",
      "Our platform allows you to orchestrate AI agents tailored to your specific workflows, optimizing your team's efforts in Ruby, Python, JavaScript, and Elixir. This level of automation can significantly reduce overhead and free up your engineers to focus on high-impact tasks. \n",
      "\n",
      "As the founder and CEO of CrewAI, I am passionate about AI-driven solutions, and I believe we can align well to drive innovation at Clearbit. Let’s explore how we can collaborate to elevate how your team leverages automation.\u001b[00m\n",
      "\n",
      "\n",
      "\u001b[1m\u001b[95m# Agent:\u001b[00m \u001b[1m\u001b[92mEngagement Optimization Specialist\u001b[00m\n",
      "\u001b[95m## Task:\u001b[00m \u001b[92mReview the personalized email draft and optimize it with strong CTAs and engagement hooks. Keep in mind they reached out and filled a lead form. Keep it short and to the point. Don't use any salutations or closing remarks, nor too complex sentences. Ensure the email encourages the lead to schedule a meeting or take another desired action immediately.\n",
      "Our Company and Product: - Company Name: CrewAI - Product: Multi-Agent Orchestration Platform - ICP: Enterprise companies looking into Agentic automation. - Pitch: We are a platform that allows you to orchestrate AI Agents for automations to any vertical.\n",
      "\u001b[00m\n",
      "\n",
      "\n",
      "\u001b[1m\u001b[95m# Agent:\u001b[00m \u001b[1m\u001b[92mEngagement Optimization Specialist\u001b[00m\n",
      "\u001b[95m## Final Answer:\u001b[00m \u001b[92m\n",
      "João, your engineering team deserves the best automation solutions. Our Multi-Agent Orchestration Platform can transform your workflows by allowing you to effortlessly orchestrate AI agents tailored to Ruby, Python, JavaScript, and Elixir tasks. Imagine drastically reducing overhead and enabling your engineers to focus on high-impact projects.  \n",
      "\n",
      "Ready to take the next step? **Schedule a meeting** [here](#) to discuss how we can enhance Clearbit's productivity.  \n",
      "\n",
      "Don't miss out on the chance to drive innovation at Clearbit—**let's unlock your team's potential together!** Click [here](#) to set up a demo today!\u001b[00m\n",
      "\n",
      "\n"
     ]
    }
   ],
   "source": [
    "emails = await flow.kickoff_async()"
   ]
  },
  {
   "cell_type": "markdown",
   "id": "69752619-a9b6-4361-89d4-cbd35dbcb0c0",
   "metadata": {},
   "source": [
    "## Usage Metrics and Costs"
   ]
  },
  {
   "cell_type": "markdown",
   "id": "ea0216d0-7cc6-4593-9353-f12aac5eb04e",
   "metadata": {},
   "source": [
    "Let’s see how much it would cost each time if this crew runs at scale."
   ]
  },
  {
   "cell_type": "code",
   "execution_count": 13,
   "id": "5cd2ad40-12a3-401f-ad32-6bd54a099734",
   "metadata": {
    "height": 200
   },
   "outputs": [
    {
     "name": "stdout",
     "output_type": "stream",
     "text": [
      "Total costs: $0.0027\n"
     ]
    },
    {
     "data": {
      "text/html": [
       "<div>\n",
       "<style scoped>\n",
       "    .dataframe tbody tr th:only-of-type {\n",
       "        vertical-align: middle;\n",
       "    }\n",
       "\n",
       "    .dataframe tbody tr th {\n",
       "        vertical-align: top;\n",
       "    }\n",
       "\n",
       "    .dataframe thead th {\n",
       "        text-align: right;\n",
       "    }\n",
       "</style>\n",
       "<table border=\"1\" class=\"dataframe\">\n",
       "  <thead>\n",
       "    <tr style=\"text-align: right;\">\n",
       "      <th></th>\n",
       "      <th>total_tokens</th>\n",
       "      <th>prompt_tokens</th>\n",
       "      <th>cached_prompt_tokens</th>\n",
       "      <th>completion_tokens</th>\n",
       "      <th>successful_requests</th>\n",
       "    </tr>\n",
       "  </thead>\n",
       "  <tbody>\n",
       "    <tr>\n",
       "      <th>0</th>\n",
       "      <td>18171</td>\n",
       "      <td>16090</td>\n",
       "      <td>5248</td>\n",
       "      <td>2081</td>\n",
       "      <td>9</td>\n",
       "    </tr>\n",
       "  </tbody>\n",
       "</table>\n",
       "</div>"
      ],
      "text/plain": [
       "   total_tokens  prompt_tokens  cached_prompt_tokens  completion_tokens  \\\n",
       "0         18171          16090                  5248               2081   \n",
       "\n",
       "   successful_requests  \n",
       "0                    9  "
      ]
     },
     "execution_count": 13,
     "metadata": {},
     "output_type": "execute_result"
    }
   ],
   "source": [
    "import pandas as pd\n",
    "\n",
    "# Convert UsageMetrics instance to a DataFrame\n",
    "df_usage_metrics = pd.DataFrame([flow.state[\"score_crews_results\"][0].token_usage.dict()])\n",
    "\n",
    "# Calculate total costs\n",
    "costs = 0.150 * df_usage_metrics['total_tokens'].sum() / 1_000_000\n",
    "print(f\"Total costs: ${costs:.4f}\")\n",
    "\n",
    "# Display the DataFrame\n",
    "df_usage_metrics"
   ]
  },
  {
   "cell_type": "code",
   "execution_count": 14,
   "id": "fae27085-f186-40d2-84d8-3aad6ee8a322",
   "metadata": {
    "height": 200
   },
   "outputs": [
    {
     "name": "stdout",
     "output_type": "stream",
     "text": [
      "Total costs: $0.0002\n"
     ]
    },
    {
     "data": {
      "text/html": [
       "<div>\n",
       "<style scoped>\n",
       "    .dataframe tbody tr th:only-of-type {\n",
       "        vertical-align: middle;\n",
       "    }\n",
       "\n",
       "    .dataframe tbody tr th {\n",
       "        vertical-align: top;\n",
       "    }\n",
       "\n",
       "    .dataframe thead th {\n",
       "        text-align: right;\n",
       "    }\n",
       "</style>\n",
       "<table border=\"1\" class=\"dataframe\">\n",
       "  <thead>\n",
       "    <tr style=\"text-align: right;\">\n",
       "      <th></th>\n",
       "      <th>total_tokens</th>\n",
       "      <th>prompt_tokens</th>\n",
       "      <th>cached_prompt_tokens</th>\n",
       "      <th>completion_tokens</th>\n",
       "      <th>successful_requests</th>\n",
       "    </tr>\n",
       "  </thead>\n",
       "  <tbody>\n",
       "    <tr>\n",
       "      <th>0</th>\n",
       "      <td>1378</td>\n",
       "      <td>1070</td>\n",
       "      <td>0</td>\n",
       "      <td>308</td>\n",
       "      <td>2</td>\n",
       "    </tr>\n",
       "  </tbody>\n",
       "</table>\n",
       "</div>"
      ],
      "text/plain": [
       "   total_tokens  prompt_tokens  cached_prompt_tokens  completion_tokens  \\\n",
       "0          1378           1070                     0                308   \n",
       "\n",
       "   successful_requests  \n",
       "0                    2  "
      ]
     },
     "execution_count": 14,
     "metadata": {},
     "output_type": "execute_result"
    }
   ],
   "source": [
    "import pandas as pd\n",
    "\n",
    "# Convert UsageMetrics instance to a DataFrame\n",
    "df_usage_metrics = pd.DataFrame([emails[0].token_usage.dict()])\n",
    "\n",
    "# Calculate total costs\n",
    "costs = 0.150 * df_usage_metrics['total_tokens'].sum() / 1_000_000\n",
    "print(f\"Total costs: ${costs:.4f}\")\n",
    "\n",
    "# Display the DataFrame\n",
    "df_usage_metrics"
   ]
  },
  {
   "cell_type": "markdown",
   "id": "791302ad-20f0-45ab-bd0a-3edd6977a639",
   "metadata": {},
   "source": [
    "## Inspecting Results"
   ]
  },
  {
   "cell_type": "code",
   "execution_count": 15,
   "id": "d10efceb-e3fd-4324-9337-879be159f093",
   "metadata": {
    "height": 30
   },
   "outputs": [],
   "source": [
    "scores = flow.state[\"score_crews_results\"]"
   ]
  },
  {
   "cell_type": "code",
   "execution_count": 16,
   "id": "7860c745-0c7e-4edd-bf8b-75beb14f64bd",
   "metadata": {
    "height": 659
   },
   "outputs": [
    {
     "data": {
      "text/html": [
       "<style type=\"text/css\">\n",
       "#T_5167a_row0_col0, #T_5167a_row0_col1, #T_5167a_row1_col0, #T_5167a_row1_col1, #T_5167a_row2_col0, #T_5167a_row2_col1, #T_5167a_row3_col0, #T_5167a_row3_col1, #T_5167a_row4_col0, #T_5167a_row4_col1, #T_5167a_row5_col0, #T_5167a_row5_col1, #T_5167a_row6_col0, #T_5167a_row6_col1, #T_5167a_row7_col0, #T_5167a_row7_col1, #T_5167a_row8_col0, #T_5167a_row8_col1, #T_5167a_row9_col0, #T_5167a_row9_col1, #T_5167a_row10_col0, #T_5167a_row10_col1, #T_5167a_row11_col0, #T_5167a_row11_col1 {\n",
       "  text-align: left;\n",
       "}\n",
       "</style>\n",
       "<table id=\"T_5167a\">\n",
       "  <thead>\n",
       "    <tr>\n",
       "      <th id=\"T_5167a_level0_col0\" class=\"col_heading level0 col0\" >Attribute</th>\n",
       "      <th id=\"T_5167a_level0_col1\" class=\"col_heading level0 col1\" >Value</th>\n",
       "    </tr>\n",
       "  </thead>\n",
       "  <tbody>\n",
       "    <tr>\n",
       "      <td id=\"T_5167a_row0_col0\" class=\"data row0 col0\" ><b>Name</b></td>\n",
       "      <td id=\"T_5167a_row0_col1\" class=\"data row0 col1\" >João Moura</td>\n",
       "    </tr>\n",
       "    <tr>\n",
       "      <td id=\"T_5167a_row1_col0\" class=\"data row1 col0\" ><b>Job Title</b></td>\n",
       "      <td id=\"T_5167a_row1_col1\" class=\"data row1 col1\" >Director of Engineering</td>\n",
       "    </tr>\n",
       "    <tr>\n",
       "      <td id=\"T_5167a_row2_col0\" class=\"data row2 col0\" ><b>Role Relevance</b></td>\n",
       "      <td id=\"T_5167a_row2_col1\" class=\"data row2 col1\" >8</td>\n",
       "    </tr>\n",
       "    <tr>\n",
       "      <td id=\"T_5167a_row3_col0\" class=\"data row3 col0\" ><b>Professional Background</b></td>\n",
       "      <td id=\"T_5167a_row3_col1\" class=\"data row3 col1\" >João Moura has a strong background in engineering leadership, previously serving as Senior Engineering Manager and now as Director at Clearbit. He is known for his expertise in Ruby, Python, JavaScript, Elixir, and Data Science. Additionally, he is the founder and CEO of CrewAI, focusing on AI-driven automation technologies.</td>\n",
       "    </tr>\n",
       "    <tr>\n",
       "      <td id=\"T_5167a_row4_col0\" class=\"data row4 col0\" ><b>Company Name</b></td>\n",
       "      <td id=\"T_5167a_row4_col1\" class=\"data row4 col1\" >Clearbit</td>\n",
       "    </tr>\n",
       "    <tr>\n",
       "      <td id=\"T_5167a_row5_col0\" class=\"data row5 col0\" ><b>Industry</b></td>\n",
       "      <td id=\"T_5167a_row5_col1\" class=\"data row5 col1\" >Business/Productivity Software</td>\n",
       "    </tr>\n",
       "    <tr>\n",
       "      <td id=\"T_5167a_row6_col0\" class=\"data row6 col0\" ><b>Company Size</b></td>\n",
       "      <td id=\"T_5167a_row6_col1\" class=\"data row6 col1\" >116</td>\n",
       "    </tr>\n",
       "    <tr>\n",
       "      <td id=\"T_5167a_row7_col0\" class=\"data row7 col0\" ><b>Revenue</b></td>\n",
       "      <td id=\"T_5167a_row7_col1\" class=\"data row7 col1\" >41600000.000000</td>\n",
       "    </tr>\n",
       "    <tr>\n",
       "      <td id=\"T_5167a_row8_col0\" class=\"data row8 col0\" ><b>Market Presence</b></td>\n",
       "      <td id=\"T_5167a_row8_col1\" class=\"data row8 col1\" >7</td>\n",
       "    </tr>\n",
       "    <tr>\n",
       "      <td id=\"T_5167a_row9_col0\" class=\"data row9 col0\" ><b>Lead Score</b></td>\n",
       "      <td id=\"T_5167a_row9_col1\" class=\"data row9 col1\" >78</td>\n",
       "    </tr>\n",
       "    <tr>\n",
       "      <td id=\"T_5167a_row10_col0\" class=\"data row10 col0\" ><b>Scoring Criteria</b></td>\n",
       "      <td id=\"T_5167a_row10_col1\" class=\"data row10 col1\" >Role Relevance: 8, Company Size: 7, Market Presence: 7, Cultural Fit: 9</td>\n",
       "    </tr>\n",
       "    <tr>\n",
       "      <td id=\"T_5167a_row11_col0\" class=\"data row11 col0\" ><b>Validation Notes</b></td>\n",
       "      <td id=\"T_5167a_row11_col1\" class=\"data row11 col1\" >The collected data aligns well with predefined scoring criteria. Weights assigned represent the importance of each criterion appropriately.</td>\n",
       "    </tr>\n",
       "  </tbody>\n",
       "</table>\n"
      ],
      "text/plain": [
       "<IPython.core.display.HTML object>"
      ]
     },
     "metadata": {},
     "output_type": "display_data"
    }
   ],
   "source": [
    "import pandas as pd\n",
    "from IPython.display import display, HTML\n",
    "\n",
    "lead_scoring_result = scores[0].pydantic\n",
    "\n",
    "# Create a dictionary with the nested structure flattened\n",
    "data = {\n",
    "    'Name': lead_scoring_result.personal_info.name,\n",
    "    'Job Title': lead_scoring_result.personal_info.job_title,\n",
    "    'Role Relevance': lead_scoring_result.personal_info.role_relevance,\n",
    "    'Professional Background': lead_scoring_result.personal_info.professional_background,\n",
    "    'Company Name': lead_scoring_result.company_info.company_name,\n",
    "    'Industry': lead_scoring_result.company_info.industry,\n",
    "    'Company Size': lead_scoring_result.company_info.company_size,\n",
    "    'Revenue': lead_scoring_result.company_info.revenue,\n",
    "    'Market Presence': lead_scoring_result.company_info.market_presence,\n",
    "    'Lead Score': lead_scoring_result.lead_score.score,\n",
    "    'Scoring Criteria': ', '.join(lead_scoring_result.lead_score.scoring_criteria),\n",
    "    'Validation Notes': lead_scoring_result.lead_score.validation_notes\n",
    "}\n",
    "\n",
    "# Convert the dictionary to a DataFrame\n",
    "df = pd.DataFrame.from_dict(data, orient='index', columns=['Value'])\n",
    "\n",
    "# Reset the index to turn the original column names into a regular column\n",
    "df = df.reset_index()\n",
    "\n",
    "# Rename the index column to 'Attribute'\n",
    "df = df.rename(columns={'index': 'Attribute'})\n",
    "\n",
    "# Create HTML table with bold attributes and left-aligned values\n",
    "html_table = df.style.set_properties(**{'text-align': 'left'}) \\\n",
    "                     .format({'Attribute': lambda x: f'<b>{x}</b>'}) \\\n",
    "                     .hide(axis='index') \\\n",
    "                     .to_html()\n",
    "\n",
    "# Display the styled HTML table\n",
    "display(HTML(html_table))"
   ]
  },
  {
   "cell_type": "markdown",
   "id": "729b2336-f71d-4760-b70e-6d831cd9fbd8",
   "metadata": {},
   "source": [
    "## Results"
   ]
  },
  {
   "cell_type": "code",
   "execution_count": 17,
   "id": "8c221ae1-6310-472b-aaeb-c046a5d1a08c",
   "metadata": {
    "height": 98
   },
   "outputs": [
    {
     "name": "stdout",
     "output_type": "stream",
     "text": [
      "João, your engineering team deserves the best automation solutions. Our Multi-\n",
      "Agent Orchestration Platform can transform your workflows by allowing you to\n",
      "effortlessly orchestrate AI agents tailored to Ruby, Python, JavaScript, and\n",
      "Elixir tasks. Imagine drastically reducing overhead and enabling your engineers\n",
      "to focus on high-impact projects.    Ready to take the next step? **Schedule a\n",
      "meeting** [here](#) to discuss how we can enhance Clearbit's productivity.\n",
      "Don't miss out on the chance to drive innovation at Clearbit—**let's unlock your\n",
      "team's potential together!** Click [here](#) to set up a demo today!\n"
     ]
    }
   ],
   "source": [
    "import textwrap\n",
    "\n",
    "result_text = emails[0].raw\n",
    "wrapped_text = textwrap.fill(result_text, width=80)\n",
    "print(wrapped_text)"
   ]
  },
  {
   "cell_type": "markdown",
   "id": "8de1e303-6b10-4010-af59-54afa6a55f59",
   "metadata": {},
   "source": [
    "## How Complex Can it Get?"
   ]
  },
  {
   "cell_type": "code",
   "execution_count": 19,
   "id": "a39a9216-103f-4a55-81ed-95a0ad41c73c",
   "metadata": {
    "height": 1186
   },
   "outputs": [],
   "source": [
    "from crewai import Flow\n",
    "from crewai.flow.flow import listen, start, and_, or_, router\n",
    "\n",
    "class SalesPipeline(Flow):\n",
    "    \n",
    "  @start()\n",
    "  def fetch_leads(self):\n",
    "    # Pull our leads from the database\n",
    "    # This is a mock, in a real-world scenario, this is where you would\n",
    "    # fetch leads from a database\n",
    "    leads = [\n",
    "      {\n",
    "        \"lead_data\": {\n",
    "          \"name\": \"João Moura\",\n",
    "          \"job_title\": \"Director of Engineering\",\n",
    "          \"company\": \"Clearbit\",\n",
    "          \"email\": \"joao@clearbit.com\",\n",
    "          \"use_case\": \"Using AI Agent to do better data enrichment.\"\n",
    "        },\n",
    "      },\n",
    "    ]\n",
    "    return leads\n",
    "\n",
    "  @listen(fetch_leads)\n",
    "  def score_leads(self, leads):\n",
    "    scores = lead_scoring_crew.kickoff_for_each(leads)\n",
    "    self.state[\"score_crews_results\"] = scores\n",
    "    return scores\n",
    "\n",
    "  @listen(score_leads)\n",
    "  def store_leads_score(self, scores):\n",
    "    # Here we would store the scores in the database\n",
    "    return scores\n",
    "\n",
    "  @listen(score_leads)\n",
    "  def filter_leads(self, scores):\n",
    "    return [score for score in scores if score['lead_score'].score > 70]\n",
    "\n",
    "  @listen(and_(filter_leads, store_leads_score))\n",
    "  def log_leads(self, leads):\n",
    "    print(f\"Leads: {leads}\")\n",
    "\n",
    "  @router(filter_leads)\n",
    "  def count_leads(self, scores):\n",
    "    if len(scores) > 10:\n",
    "      return 'high'\n",
    "    elif len(scores) > 5:\n",
    "      return 'medium'\n",
    "    else:\n",
    "      return 'low'\n",
    "\n",
    "  @listen('high')\n",
    "  def store_in_salesforce(self, leads):\n",
    "    return leads\n",
    "\n",
    "  @listen('medium')\n",
    "  def send_to_sales_team(self, leads):\n",
    "    return leads\n",
    "\n",
    "  @listen('low')\n",
    "  def write_email(self, leads):\n",
    "    scored_leads = [lead.to_dict() for lead in leads]\n",
    "    emails = email_writing_crew.kickoff_for_each(scored_leads)\n",
    "    return emails\n",
    "\n",
    "  @listen(write_email)\n",
    "  def send_email(self, emails):\n",
    "    # Here we would send the emails to the leads\n",
    "    return emails"
   ]
  },
  {
   "cell_type": "markdown",
   "id": "e900385f-10be-4f4b-aaa9-f1408b8b4be6",
   "metadata": {},
   "source": [
    "## Plotting the Flow"
   ]
  },
  {
   "cell_type": "code",
   "execution_count": 22,
   "id": "eecf2beb-818a-4db5-8338-280beac670b9",
   "metadata": {
    "height": 47
   },
   "outputs": [
    {
     "name": "stdout",
     "output_type": "stream",
     "text": [
      "Plot saved as crewai_flow.html\n"
     ]
    }
   ],
   "source": [
    "flow = SalesPipeline()\n",
    "flow.plot()"
   ]
  },
  {
   "cell_type": "code",
   "execution_count": 21,
   "id": "41d8a4df-a0cc-4aa5-a5cf-390792c7cec6",
   "metadata": {
    "height": 64
   },
   "outputs": [
    {
     "data": {
      "text/html": [
       "\n",
       "        <iframe\n",
       "            width=\"150%\"\n",
       "            height=\"600\"\n",
       "            src=\"./crewai_flow_complex.html\"\n",
       "            frameborder=\"0\"\n",
       "            allowfullscreen\n",
       "            \n",
       "        ></iframe>\n",
       "        "
      ],
      "text/plain": [
       "<IPython.lib.display.IFrame at 0x7fd0af0835b0>"
      ]
     },
     "execution_count": 21,
     "metadata": {},
     "output_type": "execute_result"
    }
   ],
   "source": [
    "from IPython.display import IFrame\n",
    "\n",
    "IFrame(src='./crewai_flow_complex.html', width='150%', height=600)"
   ]
  },
  {
   "cell_type": "code",
   "execution_count": null,
   "id": "9eed7080-4865-473c-8b1e-93be4a05606a",
   "metadata": {
    "height": 30
   },
   "outputs": [],
   "source": []
  },
  {
   "cell_type": "code",
   "execution_count": null,
   "id": "e922d823-f10d-49bb-b4da-8c6db459127a",
   "metadata": {
    "height": 30
   },
   "outputs": [],
   "source": []
  },
  {
   "cell_type": "code",
   "execution_count": null,
   "id": "f4565b50-2a62-4abd-929d-5b03d5aa5dcf",
   "metadata": {
    "height": 30
   },
   "outputs": [],
   "source": []
  },
  {
   "cell_type": "code",
   "execution_count": null,
   "id": "0ec9be22-37f3-4558-b3c3-8057d397e368",
   "metadata": {
    "height": 30
   },
   "outputs": [],
   "source": []
  },
  {
   "cell_type": "code",
   "execution_count": null,
   "id": "f4a04fe2-0022-4928-957c-891d0ba4d094",
   "metadata": {
    "height": 30
   },
   "outputs": [],
   "source": []
  },
  {
   "cell_type": "code",
   "execution_count": null,
   "id": "18389a54-953e-450e-a033-59ad5029b434",
   "metadata": {
    "height": 30
   },
   "outputs": [],
   "source": []
  }
 ],
 "metadata": {
  "kernelspec": {
   "display_name": "crewai",
   "language": "python",
   "name": "python3"
  },
  "language_info": {
   "codemirror_mode": {
    "name": "ipython",
    "version": 3
   },
   "file_extension": ".py",
   "mimetype": "text/x-python",
   "name": "python",
   "nbconvert_exporter": "python",
   "pygments_lexer": "ipython3",
   "version": "3.10.15"
  }
 },
 "nbformat": 4,
 "nbformat_minor": 5
}
