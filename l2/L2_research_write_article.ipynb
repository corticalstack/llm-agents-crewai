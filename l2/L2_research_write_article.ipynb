{
 "cells": [
  {
   "cell_type": "markdown",
   "metadata": {},
   "source": [
    "You can download the `requirements.txt` for this course from the workspace of this lab. `File --> Open...`"
   ]
  },
  {
   "cell_type": "markdown",
   "metadata": {},
   "source": [
    "# L2: Create Agents to Research and Write an Article\n",
    "\n",
    "In this lesson, you will be introduced to the foundational concepts of multi-agent systems and get an overview of the crewAI framework."
   ]
  },
  {
   "cell_type": "markdown",
   "metadata": {},
   "source": [
    "The libraries are already installed in the classroom. If you're running this notebook on your own machine, you can install the following:\n",
    "```Python\n",
    "!pip install crewai==0.28.8 crewai_tools==0.1.6 langchain_community==0.0.29\n",
    "```"
   ]
  },
  {
   "cell_type": "code",
   "execution_count": 1,
   "metadata": {
    "height": 64
   },
   "outputs": [],
   "source": [
    "# Warning control\n",
    "import warnings\n",
    "warnings.filterwarnings('ignore')"
   ]
  },
  {
   "cell_type": "markdown",
   "metadata": {},
   "source": [
    "- Import from the crewAI libray."
   ]
  },
  {
   "cell_type": "code",
   "execution_count": 2,
   "metadata": {
    "height": 30
   },
   "outputs": [],
   "source": [
    "from crewai import Agent, Task, Crew"
   ]
  },
  {
   "cell_type": "markdown",
   "metadata": {},
   "source": [
    "- As a LLM for your agents, you'll be using OpenAI's `gpt-3.5-turbo`.\n",
    "\n",
    "**Optional Note:** crewAI also allow other popular models to be used as a LLM for your Agents. You can see some of the examples at the [bottom of the notebook](#1)."
   ]
  },
  {
   "cell_type": "code",
   "execution_count": 3,
   "metadata": {
    "height": 98
   },
   "outputs": [],
   "source": [
    "import os\n",
    "from utils import get_openai_api_key\n",
    "\n",
    "openai_api_key = get_openai_api_key()\n",
    "os.environ[\"OPENAI_MODEL_NAME\"] = 'gpt-3.5-turbo'"
   ]
  },
  {
   "cell_type": "markdown",
   "metadata": {},
   "source": [
    "## Creating Agents\n",
    "\n",
    "- Define your Agents, and provide them a `role`, `goal` and `backstory`.\n",
    "- It has been seen that LLMs perform better when they are role playing."
   ]
  },
  {
   "cell_type": "markdown",
   "metadata": {},
   "source": [
    "### Agent: Planner\n",
    "\n",
    "**Note**: The benefit of using _multiple strings_ :\n",
    "```Python\n",
    "varname = \"line 1 of text\"\n",
    "          \"line 2 of text\"\n",
    "```\n",
    "\n",
    "versus the _triple quote docstring_:\n",
    "```Python\n",
    "varname = \"\"\"line 1 of text\n",
    "             line 2 of text\n",
    "          \"\"\"\n",
    "```\n",
    "is that it can avoid adding those whitespaces and newline characters, making it better formatted to be passed to the LLM."
   ]
  },
  {
   "cell_type": "code",
   "execution_count": 4,
   "metadata": {
    "height": 234
   },
   "outputs": [],
   "source": [
    "planner = Agent(\n",
    "    role=\"Content Planner\",\n",
    "    goal=\"Plan engaging and factually accurate content on {topic}\",\n",
    "    backstory=\"You're working on planning a blog article \"\n",
    "              \"about the topic: {topic}.\"\n",
    "              \"You collect information that helps the \"\n",
    "              \"audience learn something \"\n",
    "              \"and make informed decisions. \"\n",
    "              \"Your work is the basis for \"\n",
    "              \"the Content Writer to write an article on this topic.\",\n",
    "    allow_delegation=False,\n",
    "\tverbose=True\n",
    ")"
   ]
  },
  {
   "cell_type": "markdown",
   "metadata": {},
   "source": [
    "### Agent: Writer"
   ]
  },
  {
   "cell_type": "code",
   "execution_count": 5,
   "metadata": {
    "height": 370
   },
   "outputs": [],
   "source": [
    "writer = Agent(\n",
    "    role=\"Content Writer\",\n",
    "    goal=\"Write insightful and factually accurate \"\n",
    "         \"opinion piece about the topic: {topic}\",\n",
    "    backstory=\"You're working on a writing \"\n",
    "              \"a new opinion piece about the topic: {topic}. \"\n",
    "              \"You base your writing on the work of \"\n",
    "              \"the Content Planner, who provides an outline \"\n",
    "              \"and relevant context about the topic. \"\n",
    "              \"You follow the main objectives and \"\n",
    "              \"direction of the outline, \"\n",
    "              \"as provide by the Content Planner. \"\n",
    "              \"You also provide objective and impartial insights \"\n",
    "              \"and back them up with information \"\n",
    "              \"provide by the Content Planner. \"\n",
    "              \"You acknowledge in your opinion piece \"\n",
    "              \"when your statements are opinions \"\n",
    "              \"as opposed to objective statements.\",\n",
    "    allow_delegation=False,\n",
    "    verbose=True\n",
    ")"
   ]
  },
  {
   "cell_type": "markdown",
   "metadata": {},
   "source": [
    "### Agent: Editor"
   ]
  },
  {
   "cell_type": "code",
   "execution_count": 6,
   "metadata": {
    "height": 268
   },
   "outputs": [],
   "source": [
    "editor = Agent(\n",
    "    role=\"Editor\",\n",
    "    goal=\"Edit a given blog post to align with \"\n",
    "         \"the writing style of the organization. \",\n",
    "    backstory=\"You are an editor who receives a blog post \"\n",
    "              \"from the Content Writer. \"\n",
    "              \"Your goal is to review the blog post \"\n",
    "              \"to ensure that it follows journalistic best practices,\"\n",
    "              \"provides balanced viewpoints \"\n",
    "              \"when providing opinions or assertions, \"\n",
    "              \"and also avoids major controversial topics \"\n",
    "              \"or opinions when possible.\",\n",
    "    allow_delegation=False,\n",
    "    verbose=True\n",
    ")"
   ]
  },
  {
   "cell_type": "markdown",
   "metadata": {},
   "source": [
    "## Creating Tasks\n",
    "\n",
    "- Define your Tasks, and provide them a `description`, `expected_output` and `agent`."
   ]
  },
  {
   "cell_type": "markdown",
   "metadata": {},
   "source": [
    "### Task: Plan"
   ]
  },
  {
   "cell_type": "code",
   "execution_count": 7,
   "metadata": {
    "height": 268
   },
   "outputs": [],
   "source": [
    "plan = Task(\n",
    "    description=(\n",
    "        \"1. Prioritize the latest trends, key players, \"\n",
    "            \"and noteworthy news on {topic}.\\n\"\n",
    "        \"2. Identify the target audience, considering \"\n",
    "            \"their interests and pain points.\\n\"\n",
    "        \"3. Develop a detailed content outline including \"\n",
    "            \"an introduction, key points, and a call to action.\\n\"\n",
    "        \"4. Include SEO keywords and relevant data or sources.\"\n",
    "    ),\n",
    "    expected_output=\"A comprehensive content plan document \"\n",
    "        \"with an outline, audience analysis, \"\n",
    "        \"SEO keywords, and resources.\",\n",
    "    agent=planner,\n",
    ")"
   ]
  },
  {
   "cell_type": "markdown",
   "metadata": {},
   "source": [
    "### Task: Write"
   ]
  },
  {
   "cell_type": "code",
   "execution_count": 8,
   "metadata": {
    "height": 319
   },
   "outputs": [],
   "source": [
    "write = Task(\n",
    "    description=(\n",
    "        \"1. Use the content plan to craft a compelling \"\n",
    "            \"blog post on {topic}.\\n\"\n",
    "        \"2. Incorporate SEO keywords naturally.\\n\"\n",
    "\t\t\"3. Sections/Subtitles are properly named \"\n",
    "            \"in an engaging manner.\\n\"\n",
    "        \"4. Ensure the post is structured with an \"\n",
    "            \"engaging introduction, insightful body, \"\n",
    "            \"and a summarizing conclusion.\\n\"\n",
    "        \"5. Proofread for grammatical errors and \"\n",
    "            \"alignment with the brand's voice.\\n\"\n",
    "    ),\n",
    "    expected_output=\"A well-written blog post \"\n",
    "        \"in markdown format, ready for publication, \"\n",
    "        \"each section should have 2 or 3 paragraphs.\",\n",
    "    agent=writer,\n",
    ")"
   ]
  },
  {
   "cell_type": "markdown",
   "metadata": {},
   "source": [
    "### Task: Edit"
   ]
  },
  {
   "cell_type": "code",
   "execution_count": 9,
   "metadata": {
    "height": 166
   },
   "outputs": [],
   "source": [
    "edit = Task(\n",
    "    description=(\"Proofread the given blog post for \"\n",
    "                 \"grammatical errors and \"\n",
    "                 \"alignment with the brand's voice.\"),\n",
    "    expected_output=\"A well-written blog post in markdown format, \"\n",
    "                    \"ready for publication, \"\n",
    "                    \"each section should have 2 or 3 paragraphs.\",\n",
    "    agent=editor\n",
    ")"
   ]
  },
  {
   "cell_type": "markdown",
   "metadata": {},
   "source": [
    "## Creating the Crew\n",
    "\n",
    "- Create your crew of Agents\n",
    "- Pass the tasks to be performed by those agents.\n",
    "    - **Note**: *For this simple example*, the tasks will be performed sequentially (i.e they are dependent on each other), so the _order_ of the task in the list _matters_.\n",
    "- `verbose=2` allows you to see all the logs of the execution. "
   ]
  },
  {
   "cell_type": "code",
   "execution_count": 10,
   "metadata": {
    "height": 98
   },
   "outputs": [],
   "source": [
    "crew = Crew(\n",
    "    agents=[planner, writer, editor],\n",
    "    tasks=[plan, write, edit],\n",
    "    verbose=2\n",
    ")"
   ]
  },
  {
   "cell_type": "markdown",
   "metadata": {},
   "source": [
    "## Running the Crew"
   ]
  },
  {
   "cell_type": "markdown",
   "metadata": {},
   "source": [
    "**Note**: LLMs can provide different outputs for they same input, so what you get might be different than what you see in the video."
   ]
  },
  {
   "cell_type": "code",
   "execution_count": 11,
   "metadata": {
    "height": 30
   },
   "outputs": [
    {
     "name": "stdout",
     "output_type": "stream",
     "text": [
      "\u001b[1m\u001b[95m [DEBUG]: == Working Agent: Content Planner\u001b[00m\n",
      "\u001b[1m\u001b[95m [INFO]: == Starting Task: 1. Prioritize the latest trends, key players, and noteworthy news on Artificial Intelligence.\n",
      "2. Identify the target audience, considering their interests and pain points.\n",
      "3. Develop a detailed content outline including an introduction, key points, and a call to action.\n",
      "4. Include SEO keywords and relevant data or sources.\u001b[00m\n",
      "\n",
      "\n",
      "\u001b[1m> Entering new CrewAgentExecutor chain...\u001b[0m\n",
      "\u001b[32;1m\u001b[1;3mI now can give a great answer\n",
      "\n",
      "Final Answer: \n",
      "\n",
      "Content Plan Document:\n",
      "\n",
      "Title: The Future of Artificial Intelligence: Trends, Players, and News\n",
      "\n",
      "Introduction:\n",
      "- Brief overview of Artificial Intelligence (AI) and its impact on various industries\n",
      "- Mention of the latest trends and advancements in AI technology\n",
      "\n",
      "Key Points:\n",
      "1. Latest Trends in AI:\n",
      "- Machine learning and deep learning advancements\n",
      "- Natural language processing applications\n",
      "- AI in healthcare, finance, and transportation sectors\n",
      "- Ethical considerations in AI development\n",
      "\n",
      "2. Key Players in the AI Industry:\n",
      "- Google DeepMind\n",
      "- IBM Watson\n",
      "- Amazon Web Services\n",
      "- Microsoft Azure\n",
      "\n",
      "3. Noteworthy News in AI:\n",
      "- Recent breakthroughs in AI research\n",
      "- AI implementations in businesses and government agencies\n",
      "- AI ethics and regulation updates\n",
      "\n",
      "Audience Analysis:\n",
      "- Target audience: Tech enthusiasts, industry professionals, business leaders, and policymakers\n",
      "- Interests: Cutting-edge technology, AI applications, future implications of AI\n",
      "- Pain points: Understanding complex AI concepts, staying updated on AI trends and news\n",
      "\n",
      "SEO Keywords:\n",
      "- Artificial Intelligence trends 2021\n",
      "- Top AI companies\n",
      "- AI news updates\n",
      "- Machine learning advancements\n",
      "- Ethical AI development\n",
      "\n",
      "Resources:\n",
      "1. \"The State of Artificial Intelligence in 2021\" report by McKinsey & Company\n",
      "2. \"AI Superpowers: China, Silicon Valley, and the New World Order\" by Kai-Fu Lee\n",
      "3. Forbes AI section for latest news and insights\n",
      "4. AI conferences and webinars for industry updates\n",
      "\n",
      "Call to Action:\n",
      "- Encourage readers to stay informed on AI developments by subscribing to industry newsletters, attending AI events, and following reputable AI sources online.\u001b[0m\n",
      "\n",
      "\u001b[1m> Finished chain.\u001b[0m\n",
      "\u001b[1m\u001b[92m [DEBUG]: == [Content Planner] Task output: Content Plan Document:\n",
      "\n",
      "Title: The Future of Artificial Intelligence: Trends, Players, and News\n",
      "\n",
      "Introduction:\n",
      "- Brief overview of Artificial Intelligence (AI) and its impact on various industries\n",
      "- Mention of the latest trends and advancements in AI technology\n",
      "\n",
      "Key Points:\n",
      "1. Latest Trends in AI:\n",
      "- Machine learning and deep learning advancements\n",
      "- Natural language processing applications\n",
      "- AI in healthcare, finance, and transportation sectors\n",
      "- Ethical considerations in AI development\n",
      "\n",
      "2. Key Players in the AI Industry:\n",
      "- Google DeepMind\n",
      "- IBM Watson\n",
      "- Amazon Web Services\n",
      "- Microsoft Azure\n",
      "\n",
      "3. Noteworthy News in AI:\n",
      "- Recent breakthroughs in AI research\n",
      "- AI implementations in businesses and government agencies\n",
      "- AI ethics and regulation updates\n",
      "\n",
      "Audience Analysis:\n",
      "- Target audience: Tech enthusiasts, industry professionals, business leaders, and policymakers\n",
      "- Interests: Cutting-edge technology, AI applications, future implications of AI\n",
      "- Pain points: Understanding complex AI concepts, staying updated on AI trends and news\n",
      "\n",
      "SEO Keywords:\n",
      "- Artificial Intelligence trends 2021\n",
      "- Top AI companies\n",
      "- AI news updates\n",
      "- Machine learning advancements\n",
      "- Ethical AI development\n",
      "\n",
      "Resources:\n",
      "1. \"The State of Artificial Intelligence in 2021\" report by McKinsey & Company\n",
      "2. \"AI Superpowers: China, Silicon Valley, and the New World Order\" by Kai-Fu Lee\n",
      "3. Forbes AI section for latest news and insights\n",
      "4. AI conferences and webinars for industry updates\n",
      "\n",
      "Call to Action:\n",
      "- Encourage readers to stay informed on AI developments by subscribing to industry newsletters, attending AI events, and following reputable AI sources online.\n",
      "\n",
      "\u001b[00m\n",
      "\u001b[1m\u001b[95m [DEBUG]: == Working Agent: Content Writer\u001b[00m\n",
      "\u001b[1m\u001b[95m [INFO]: == Starting Task: 1. Use the content plan to craft a compelling blog post on Artificial Intelligence.\n",
      "2. Incorporate SEO keywords naturally.\n",
      "3. Sections/Subtitles are properly named in an engaging manner.\n",
      "4. Ensure the post is structured with an engaging introduction, insightful body, and a summarizing conclusion.\n",
      "5. Proofread for grammatical errors and alignment with the brand's voice.\n",
      "\u001b[00m\n",
      "\n",
      "\n",
      "\u001b[1m> Entering new CrewAgentExecutor chain...\u001b[0m\n",
      "\u001b[32;1m\u001b[1;3mI now can give a great answer\n",
      "\n",
      "Final Answer: \n",
      "\n",
      "# The Future of Artificial Intelligence: Trends, Players, and News\n",
      "\n",
      "**Introduction:**\n",
      "\n",
      "Artificial Intelligence (AI) has revolutionized various industries with its innovative technologies, shaping the way we live and work. From machine learning to natural language processing, AI continues to push boundaries and drive advancements across sectors. The latest trends in AI are constantly evolving, with breakthroughs in healthcare, finance, transportation, and more. It is essential to explore the key players in the AI industry and stay updated on the noteworthy news and developments in this rapidly growing field.\n",
      "\n",
      "**Latest Trends in AI:**\n",
      "\n",
      "Machine learning and deep learning are at the forefront of AI advancements, enabling systems to learn from data and make intelligent decisions. Natural language processing applications have also seen significant growth, with AI-powered chatbots and voice assistants transforming customer interactions. In sectors like healthcare, AI is revolutionizing patient care with predictive analytics and personalized treatment plans. However, ethical considerations in AI development, such as bias and privacy concerns, remain crucial for ensuring responsible AI applications.\n",
      "\n",
      "**Key Players in the AI Industry:**\n",
      "\n",
      "Leading the pack in AI innovation are companies like Google DeepMind, IBM Watson, Amazon Web Services, and Microsoft Azure. These tech giants are driving AI research and development, with a focus on creating cutting-edge solutions for businesses and consumers. Google DeepMind, known for its AlphaGo program, continues to push the boundaries of AI in gaming and strategic decision-making. IBM Watson's cognitive computing capabilities are transforming industries like healthcare and finance, while Amazon Web Services and Microsoft Azure offer scalable AI solutions for cloud computing and data analytics.\n",
      "\n",
      "**Noteworthy News in AI:**\n",
      "\n",
      "Recent breakthroughs in AI research have showcased the potential of AI to revolutionize industries and drive economic growth. From self-driving cars to automated financial trading systems, AI implementations are reshaping businesses and government agencies worldwide. However, ethical considerations and regulatory frameworks are essential for ensuring the responsible development and deployment of AI technologies. Stay informed on the latest AI news and updates to understand the implications of AI on society and the economy.\n",
      "\n",
      "**Conclusion:**\n",
      "\n",
      "As AI continues to shape the future of technology and innovation, staying informed on the latest trends, key players, and news in the AI industry is essential. By exploring the advancements in machine learning, natural language processing, and AI applications across sectors, we can better understand the potential of AI to drive positive change. Embracing ethical considerations and regulatory frameworks in AI development is crucial for ensuring the responsible and sustainable growth of AI technologies. Stay connected with industry newsletters, AI events, and reputable online sources to stay ahead of the curve in the dynamic world of artificial intelligence.\u001b[0m\n",
      "\n",
      "\u001b[1m> Finished chain.\u001b[0m\n",
      "\u001b[1m\u001b[92m [DEBUG]: == [Content Writer] Task output: # The Future of Artificial Intelligence: Trends, Players, and News\n",
      "\n",
      "**Introduction:**\n",
      "\n",
      "Artificial Intelligence (AI) has revolutionized various industries with its innovative technologies, shaping the way we live and work. From machine learning to natural language processing, AI continues to push boundaries and drive advancements across sectors. The latest trends in AI are constantly evolving, with breakthroughs in healthcare, finance, transportation, and more. It is essential to explore the key players in the AI industry and stay updated on the noteworthy news and developments in this rapidly growing field.\n",
      "\n",
      "**Latest Trends in AI:**\n",
      "\n",
      "Machine learning and deep learning are at the forefront of AI advancements, enabling systems to learn from data and make intelligent decisions. Natural language processing applications have also seen significant growth, with AI-powered chatbots and voice assistants transforming customer interactions. In sectors like healthcare, AI is revolutionizing patient care with predictive analytics and personalized treatment plans. However, ethical considerations in AI development, such as bias and privacy concerns, remain crucial for ensuring responsible AI applications.\n",
      "\n",
      "**Key Players in the AI Industry:**\n",
      "\n",
      "Leading the pack in AI innovation are companies like Google DeepMind, IBM Watson, Amazon Web Services, and Microsoft Azure. These tech giants are driving AI research and development, with a focus on creating cutting-edge solutions for businesses and consumers. Google DeepMind, known for its AlphaGo program, continues to push the boundaries of AI in gaming and strategic decision-making. IBM Watson's cognitive computing capabilities are transforming industries like healthcare and finance, while Amazon Web Services and Microsoft Azure offer scalable AI solutions for cloud computing and data analytics.\n",
      "\n",
      "**Noteworthy News in AI:**\n",
      "\n",
      "Recent breakthroughs in AI research have showcased the potential of AI to revolutionize industries and drive economic growth. From self-driving cars to automated financial trading systems, AI implementations are reshaping businesses and government agencies worldwide. However, ethical considerations and regulatory frameworks are essential for ensuring the responsible development and deployment of AI technologies. Stay informed on the latest AI news and updates to understand the implications of AI on society and the economy.\n",
      "\n",
      "**Conclusion:**\n",
      "\n",
      "As AI continues to shape the future of technology and innovation, staying informed on the latest trends, key players, and news in the AI industry is essential. By exploring the advancements in machine learning, natural language processing, and AI applications across sectors, we can better understand the potential of AI to drive positive change. Embracing ethical considerations and regulatory frameworks in AI development is crucial for ensuring the responsible and sustainable growth of AI technologies. Stay connected with industry newsletters, AI events, and reputable online sources to stay ahead of the curve in the dynamic world of artificial intelligence.\n",
      "\n",
      "\u001b[00m\n",
      "\u001b[1m\u001b[95m [DEBUG]: == Working Agent: Editor\u001b[00m\n",
      "\u001b[1m\u001b[95m [INFO]: == Starting Task: Proofread the given blog post for grammatical errors and alignment with the brand's voice.\u001b[00m\n",
      "\n",
      "\n",
      "\u001b[1m> Entering new CrewAgentExecutor chain...\u001b[0m\n",
      "\u001b[32;1m\u001b[1;3mI now can give a great answer.\n",
      "\n",
      "Final Answer:\n",
      "# The Future of Artificial Intelligence: Trends, Players, and News\n",
      "\n",
      "**Introduction:**\n",
      "\n",
      "Artificial Intelligence (AI) has revolutionized various industries with its innovative technologies, shaping the way we live and work. From machine learning to natural language processing, AI continues to push boundaries and drive advancements across sectors. The latest trends in AI are constantly evolving, with breakthroughs in healthcare, finance, transportation, and more. It is essential to explore the key players in the AI industry and stay updated on the noteworthy news and developments in this rapidly growing field.\n",
      "\n",
      "**Latest Trends in AI:**\n",
      "\n",
      "Machine learning and deep learning are at the forefront of AI advancements, enabling systems to learn from data and make intelligent decisions. Natural language processing applications have also seen significant growth, with AI-powered chatbots and voice assistants transforming customer interactions. In sectors like healthcare, AI is revolutionizing patient care with predictive analytics and personalized treatment plans. However, ethical considerations in AI development, such as bias and privacy concerns, remain crucial for ensuring responsible AI applications.\n",
      "\n",
      "**Key Players in the AI Industry:**\n",
      "\n",
      "Leading the pack in AI innovation are companies like Google DeepMind, IBM Watson, Amazon Web Services, and Microsoft Azure. These tech giants are driving AI research and development, with a focus on creating cutting-edge solutions for businesses and consumers. Google DeepMind, known for its AlphaGo program, continues to push the boundaries of AI in gaming and strategic decision-making. IBM Watson's cognitive computing capabilities are transforming industries like healthcare and finance, while Amazon Web Services and Microsoft Azure offer scalable AI solutions for cloud computing and data analytics.\n",
      "\n",
      "**Noteworthy News in AI:**\n",
      "\n",
      "Recent breakthroughs in AI research have showcased the potential of AI to revolutionize industries and drive economic growth. From self-driving cars to automated financial trading systems, AI implementations are reshaping businesses and government agencies worldwide. However, ethical considerations and regulatory frameworks are essential for ensuring the responsible development and deployment of AI technologies. Stay informed on the latest AI news and updates to understand the implications of AI on society and the economy.\n",
      "\n",
      "**Conclusion:**\n",
      "\n",
      "As AI continues to shape the future of technology and innovation, staying informed on the latest trends, key players, and news in the AI industry is essential. By exploring the advancements in machine learning, natural language processing, and AI applications across sectors, we can better understand the potential of AI to drive positive change. Embracing ethical considerations and regulatory frameworks in AI development is crucial for ensuring the responsible and sustainable growth of AI technologies. Stay connected with industry newsletters, AI events, and reputable online sources to stay ahead of the curve in the dynamic world of artificial intelligence.\u001b[0m\n",
      "\n",
      "\u001b[1m> Finished chain.\u001b[0m\n",
      "\u001b[1m\u001b[92m [DEBUG]: == [Editor] Task output: # The Future of Artificial Intelligence: Trends, Players, and News\n",
      "\n",
      "**Introduction:**\n",
      "\n",
      "Artificial Intelligence (AI) has revolutionized various industries with its innovative technologies, shaping the way we live and work. From machine learning to natural language processing, AI continues to push boundaries and drive advancements across sectors. The latest trends in AI are constantly evolving, with breakthroughs in healthcare, finance, transportation, and more. It is essential to explore the key players in the AI industry and stay updated on the noteworthy news and developments in this rapidly growing field.\n",
      "\n",
      "**Latest Trends in AI:**\n",
      "\n",
      "Machine learning and deep learning are at the forefront of AI advancements, enabling systems to learn from data and make intelligent decisions. Natural language processing applications have also seen significant growth, with AI-powered chatbots and voice assistants transforming customer interactions. In sectors like healthcare, AI is revolutionizing patient care with predictive analytics and personalized treatment plans. However, ethical considerations in AI development, such as bias and privacy concerns, remain crucial for ensuring responsible AI applications.\n",
      "\n",
      "**Key Players in the AI Industry:**\n",
      "\n",
      "Leading the pack in AI innovation are companies like Google DeepMind, IBM Watson, Amazon Web Services, and Microsoft Azure. These tech giants are driving AI research and development, with a focus on creating cutting-edge solutions for businesses and consumers. Google DeepMind, known for its AlphaGo program, continues to push the boundaries of AI in gaming and strategic decision-making. IBM Watson's cognitive computing capabilities are transforming industries like healthcare and finance, while Amazon Web Services and Microsoft Azure offer scalable AI solutions for cloud computing and data analytics.\n",
      "\n",
      "**Noteworthy News in AI:**\n",
      "\n",
      "Recent breakthroughs in AI research have showcased the potential of AI to revolutionize industries and drive economic growth. From self-driving cars to automated financial trading systems, AI implementations are reshaping businesses and government agencies worldwide. However, ethical considerations and regulatory frameworks are essential for ensuring the responsible development and deployment of AI technologies. Stay informed on the latest AI news and updates to understand the implications of AI on society and the economy.\n",
      "\n",
      "**Conclusion:**\n",
      "\n",
      "As AI continues to shape the future of technology and innovation, staying informed on the latest trends, key players, and news in the AI industry is essential. By exploring the advancements in machine learning, natural language processing, and AI applications across sectors, we can better understand the potential of AI to drive positive change. Embracing ethical considerations and regulatory frameworks in AI development is crucial for ensuring the responsible and sustainable growth of AI technologies. Stay connected with industry newsletters, AI events, and reputable online sources to stay ahead of the curve in the dynamic world of artificial intelligence.\n",
      "\n",
      "\u001b[00m\n"
     ]
    }
   ],
   "source": [
    "result = crew.kickoff(inputs={\"topic\": \"Artificial Intelligence\"})"
   ]
  },
  {
   "cell_type": "markdown",
   "metadata": {},
   "source": [
    "- Display the results of your execution as markdown in the notebook."
   ]
  },
  {
   "cell_type": "code",
   "execution_count": 12,
   "metadata": {
    "height": 47
   },
   "outputs": [
    {
     "data": {
      "text/markdown": [
       "# The Future of Artificial Intelligence: Trends, Players, and News\n",
       "\n",
       "**Introduction:**\n",
       "\n",
       "Artificial Intelligence (AI) has revolutionized various industries with its innovative technologies, shaping the way we live and work. From machine learning to natural language processing, AI continues to push boundaries and drive advancements across sectors. The latest trends in AI are constantly evolving, with breakthroughs in healthcare, finance, transportation, and more. It is essential to explore the key players in the AI industry and stay updated on the noteworthy news and developments in this rapidly growing field.\n",
       "\n",
       "**Latest Trends in AI:**\n",
       "\n",
       "Machine learning and deep learning are at the forefront of AI advancements, enabling systems to learn from data and make intelligent decisions. Natural language processing applications have also seen significant growth, with AI-powered chatbots and voice assistants transforming customer interactions. In sectors like healthcare, AI is revolutionizing patient care with predictive analytics and personalized treatment plans. However, ethical considerations in AI development, such as bias and privacy concerns, remain crucial for ensuring responsible AI applications.\n",
       "\n",
       "**Key Players in the AI Industry:**\n",
       "\n",
       "Leading the pack in AI innovation are companies like Google DeepMind, IBM Watson, Amazon Web Services, and Microsoft Azure. These tech giants are driving AI research and development, with a focus on creating cutting-edge solutions for businesses and consumers. Google DeepMind, known for its AlphaGo program, continues to push the boundaries of AI in gaming and strategic decision-making. IBM Watson's cognitive computing capabilities are transforming industries like healthcare and finance, while Amazon Web Services and Microsoft Azure offer scalable AI solutions for cloud computing and data analytics.\n",
       "\n",
       "**Noteworthy News in AI:**\n",
       "\n",
       "Recent breakthroughs in AI research have showcased the potential of AI to revolutionize industries and drive economic growth. From self-driving cars to automated financial trading systems, AI implementations are reshaping businesses and government agencies worldwide. However, ethical considerations and regulatory frameworks are essential for ensuring the responsible development and deployment of AI technologies. Stay informed on the latest AI news and updates to understand the implications of AI on society and the economy.\n",
       "\n",
       "**Conclusion:**\n",
       "\n",
       "As AI continues to shape the future of technology and innovation, staying informed on the latest trends, key players, and news in the AI industry is essential. By exploring the advancements in machine learning, natural language processing, and AI applications across sectors, we can better understand the potential of AI to drive positive change. Embracing ethical considerations and regulatory frameworks in AI development is crucial for ensuring the responsible and sustainable growth of AI technologies. Stay connected with industry newsletters, AI events, and reputable online sources to stay ahead of the curve in the dynamic world of artificial intelligence."
      ],
      "text/plain": [
       "<IPython.core.display.Markdown object>"
      ]
     },
     "execution_count": 12,
     "metadata": {},
     "output_type": "execute_result"
    }
   ],
   "source": [
    "from IPython.display import Markdown\n",
    "Markdown(result)"
   ]
  },
  {
   "cell_type": "markdown",
   "metadata": {},
   "source": [
    "## Try it Yourself\n",
    "\n",
    "- Pass in a topic of your choice and see what the agents come up with!"
   ]
  },
  {
   "cell_type": "code",
   "execution_count": 13,
   "metadata": {
    "height": 47
   },
   "outputs": [
    {
     "name": "stdout",
     "output_type": "stream",
     "text": [
      "\u001b[1m\u001b[95m [DEBUG]: == Working Agent: Content Planner\u001b[00m\n",
      "\u001b[1m\u001b[95m [INFO]: == Starting Task: 1. Prioritize the latest trends, key players, and noteworthy news on Agentic Frameworks.\n",
      "2. Identify the target audience, considering their interests and pain points.\n",
      "3. Develop a detailed content outline including an introduction, key points, and a call to action.\n",
      "4. Include SEO keywords and relevant data or sources.\u001b[00m\n",
      "\n",
      "\n",
      "\u001b[1m> Entering new CrewAgentExecutor chain...\u001b[0m\n",
      "\u001b[32;1m\u001b[1;3mI now can give a great answer\n",
      "\n",
      "Final Answer:\n",
      "Content Plan: Agentic Frameworks\n",
      "\n",
      "Outline:\n",
      "I. Introduction\n",
      "- Definition of Agentic Frameworks\n",
      "- Importance of understanding Agentic Frameworks in today's society\n",
      "\n",
      "II. Latest Trends in Agentic Frameworks\n",
      "- Rise of digital agentic tools\n",
      "- Incorporation of agentic principles in leadership development\n",
      "\n",
      "III. Key Players in Agentic Frameworks\n",
      "- Theoretical foundations from Bandura's social cognitive theory\n",
      "- Organizations implementing agentic frameworks in their operations\n",
      "\n",
      "IV. Noteworthy News on Agentic Frameworks\n",
      "- Case studies of successful implementation\n",
      "- Research findings on the impact of agentic frameworks on individual and organizational outcomes\n",
      "\n",
      "V. Target Audience Analysis\n",
      "- Professionals in psychology, leadership development, and organizational behavior\n",
      "- Individuals interested in personal growth and empowerment\n",
      "- Organizations looking to enhance employee engagement and performance\n",
      "\n",
      "VI. SEO Keywords\n",
      "- Agentic Frameworks\n",
      "- Bandura's social cognitive theory\n",
      "- Empowerment in organizations\n",
      "- Leadership development with agentic principles\n",
      "\n",
      "VII. Resources\n",
      "- Bandura, A. (2001). Social cognitive theory: An agentic perspective.\n",
      "- Harvard Business Review articles on agentic leadership\n",
      "- Case studies from organizations like Google and Amazon implementing agentic frameworks\n",
      "\n",
      "Call to Action:\n",
      "For more insights on how to leverage agentic frameworks for personal and organizational growth, subscribe to our newsletter for regular updates and exclusive content.\n",
      "\n",
      "This content plan is designed to inform and engage our target audience while providing valuable insights into the latest trends, key players, and noteworthy news on Agentic Frameworks. By incorporating SEO keywords and relevant resources, we aim to position ourselves as a trusted source of information in this field.\u001b[0m\n",
      "\n",
      "\u001b[1m> Finished chain.\u001b[0m\n",
      "\u001b[1m\u001b[92m [DEBUG]: == [Content Planner] Task output: Content Plan: Agentic Frameworks\n",
      "\n",
      "Outline:\n",
      "I. Introduction\n",
      "- Definition of Agentic Frameworks\n",
      "- Importance of understanding Agentic Frameworks in today's society\n",
      "\n",
      "II. Latest Trends in Agentic Frameworks\n",
      "- Rise of digital agentic tools\n",
      "- Incorporation of agentic principles in leadership development\n",
      "\n",
      "III. Key Players in Agentic Frameworks\n",
      "- Theoretical foundations from Bandura's social cognitive theory\n",
      "- Organizations implementing agentic frameworks in their operations\n",
      "\n",
      "IV. Noteworthy News on Agentic Frameworks\n",
      "- Case studies of successful implementation\n",
      "- Research findings on the impact of agentic frameworks on individual and organizational outcomes\n",
      "\n",
      "V. Target Audience Analysis\n",
      "- Professionals in psychology, leadership development, and organizational behavior\n",
      "- Individuals interested in personal growth and empowerment\n",
      "- Organizations looking to enhance employee engagement and performance\n",
      "\n",
      "VI. SEO Keywords\n",
      "- Agentic Frameworks\n",
      "- Bandura's social cognitive theory\n",
      "- Empowerment in organizations\n",
      "- Leadership development with agentic principles\n",
      "\n",
      "VII. Resources\n",
      "- Bandura, A. (2001). Social cognitive theory: An agentic perspective.\n",
      "- Harvard Business Review articles on agentic leadership\n",
      "- Case studies from organizations like Google and Amazon implementing agentic frameworks\n",
      "\n",
      "Call to Action:\n",
      "For more insights on how to leverage agentic frameworks for personal and organizational growth, subscribe to our newsletter for regular updates and exclusive content.\n",
      "\n",
      "This content plan is designed to inform and engage our target audience while providing valuable insights into the latest trends, key players, and noteworthy news on Agentic Frameworks. By incorporating SEO keywords and relevant resources, we aim to position ourselves as a trusted source of information in this field.\n",
      "\n",
      "\u001b[00m\n",
      "\u001b[1m\u001b[95m [DEBUG]: == Working Agent: Content Writer\u001b[00m\n",
      "\u001b[1m\u001b[95m [INFO]: == Starting Task: 1. Use the content plan to craft a compelling blog post on Agentic Frameworks.\n",
      "2. Incorporate SEO keywords naturally.\n",
      "3. Sections/Subtitles are properly named in an engaging manner.\n",
      "4. Ensure the post is structured with an engaging introduction, insightful body, and a summarizing conclusion.\n",
      "5. Proofread for grammatical errors and alignment with the brand's voice.\n",
      "\u001b[00m\n",
      "\n",
      "\n",
      "\u001b[1m> Entering new CrewAgentExecutor chain...\u001b[0m\n",
      "\u001b[32;1m\u001b[1;3mI now can give a great answer\n",
      "\n",
      "Final Answer: \n",
      "\n",
      "# Understanding Agentic Frameworks: Empowering Personal and Organizational Growth\n",
      "\n",
      "## Introduction\n",
      "Agentic frameworks are a crucial concept in today's society, defined as the belief in one's ability to exert control over their own motivation, behavior, and social environment. Understanding agentic frameworks is essential for individuals and organizations seeking personal growth and empowerment. By grasping the principles of agentic frameworks, individuals can enhance their leadership skills and organizations can improve employee engagement and performance.\n",
      "\n",
      "## Latest Trends in Agentic Frameworks\n",
      "One of the latest trends in agentic frameworks is the rise of digital tools that empower individuals to take control of their own development. These tools provide personalized feedback, goal-setting mechanisms, and progress tracking features, all aimed at fostering a sense of agency in users. Moreover, agentic principles are now being incorporated into leadership development programs, emphasizing the importance of self-efficacy, goal-setting, and resilience in effective leadership.\n",
      "\n",
      "## Key Players in Agentic Frameworks\n",
      "Agentic frameworks are rooted in Bandura's social cognitive theory, which highlights the role of self-regulation, self-efficacy, and observational learning in human behavior. Organizations are increasingly adopting agentic frameworks in their operations to empower employees, enhance decision-making processes, and foster a culture of innovation. By embracing the principles of agentic frameworks, organizations can create a more dynamic and adaptive work environment.\n",
      "\n",
      "## Noteworthy News on Agentic Frameworks\n",
      "Case studies of successful implementation of agentic frameworks showcase the positive impact on individual and organizational outcomes. Research findings indicate that organizations that prioritize employee empowerment and autonomy experience higher levels of job satisfaction, productivity, and creativity. By implementing agentic frameworks, organizations can unlock the full potential of their employees and drive sustainable growth.\n",
      "\n",
      "## Target Audience Analysis\n",
      "Professionals in psychology, leadership development, and organizational behavior can benefit from understanding agentic frameworks and applying them in their practice. Individuals interested in personal growth and empowerment can leverage agentic principles to take control of their own development and achieve their goals. Organizations looking to enhance employee engagement and performance can utilize agentic frameworks to create a more positive and productive work environment.\n",
      "\n",
      "## Conclusion\n",
      "In conclusion, agentic frameworks offer a powerful framework for personal and organizational growth. By incorporating SEO keywords such as agentic frameworks, Bandura's social cognitive theory, empowerment in organizations, and leadership development with agentic principles, we can reach a wider audience and position ourselves as a trusted source of information in this field. For more insights on leveraging agentic frameworks for personal and organizational growth, subscribe to our newsletter for regular updates and exclusive content.\u001b[0m\n",
      "\n",
      "\u001b[1m> Finished chain.\u001b[0m\n",
      "\u001b[1m\u001b[92m [DEBUG]: == [Content Writer] Task output: # Understanding Agentic Frameworks: Empowering Personal and Organizational Growth\n",
      "\n",
      "## Introduction\n",
      "Agentic frameworks are a crucial concept in today's society, defined as the belief in one's ability to exert control over their own motivation, behavior, and social environment. Understanding agentic frameworks is essential for individuals and organizations seeking personal growth and empowerment. By grasping the principles of agentic frameworks, individuals can enhance their leadership skills and organizations can improve employee engagement and performance.\n",
      "\n",
      "## Latest Trends in Agentic Frameworks\n",
      "One of the latest trends in agentic frameworks is the rise of digital tools that empower individuals to take control of their own development. These tools provide personalized feedback, goal-setting mechanisms, and progress tracking features, all aimed at fostering a sense of agency in users. Moreover, agentic principles are now being incorporated into leadership development programs, emphasizing the importance of self-efficacy, goal-setting, and resilience in effective leadership.\n",
      "\n",
      "## Key Players in Agentic Frameworks\n",
      "Agentic frameworks are rooted in Bandura's social cognitive theory, which highlights the role of self-regulation, self-efficacy, and observational learning in human behavior. Organizations are increasingly adopting agentic frameworks in their operations to empower employees, enhance decision-making processes, and foster a culture of innovation. By embracing the principles of agentic frameworks, organizations can create a more dynamic and adaptive work environment.\n",
      "\n",
      "## Noteworthy News on Agentic Frameworks\n",
      "Case studies of successful implementation of agentic frameworks showcase the positive impact on individual and organizational outcomes. Research findings indicate that organizations that prioritize employee empowerment and autonomy experience higher levels of job satisfaction, productivity, and creativity. By implementing agentic frameworks, organizations can unlock the full potential of their employees and drive sustainable growth.\n",
      "\n",
      "## Target Audience Analysis\n",
      "Professionals in psychology, leadership development, and organizational behavior can benefit from understanding agentic frameworks and applying them in their practice. Individuals interested in personal growth and empowerment can leverage agentic principles to take control of their own development and achieve their goals. Organizations looking to enhance employee engagement and performance can utilize agentic frameworks to create a more positive and productive work environment.\n",
      "\n",
      "## Conclusion\n",
      "In conclusion, agentic frameworks offer a powerful framework for personal and organizational growth. By incorporating SEO keywords such as agentic frameworks, Bandura's social cognitive theory, empowerment in organizations, and leadership development with agentic principles, we can reach a wider audience and position ourselves as a trusted source of information in this field. For more insights on leveraging agentic frameworks for personal and organizational growth, subscribe to our newsletter for regular updates and exclusive content.\n",
      "\n",
      "\u001b[00m\n",
      "\u001b[1m\u001b[95m [DEBUG]: == Working Agent: Editor\u001b[00m\n",
      "\u001b[1m\u001b[95m [INFO]: == Starting Task: Proofread the given blog post for grammatical errors and alignment with the brand's voice.\u001b[00m\n",
      "\n",
      "\n",
      "\u001b[1m> Entering new CrewAgentExecutor chain...\u001b[0m\n",
      "\u001b[32;1m\u001b[1;3mI now can give a great answer.\n",
      "\n",
      "Final Answer:\n",
      "# Understanding Agentic Frameworks: Empowering Personal and Organizational Growth\n",
      "\n",
      "## Introduction\n",
      "Agentic frameworks play a vital role in today's society, representing the belief in one's capability to influence their own motivation, behavior, and social surroundings. The comprehension of agentic frameworks is fundamental for individuals and organizations striving for personal growth and empowerment. By grasping the core principles of agentic frameworks, individuals can enhance their leadership skills, while organizations can elevate employee engagement and performance.\n",
      "\n",
      "## Latest Trends in Agentic Frameworks\n",
      "One of the current trends in agentic frameworks is the emergence of digital tools that empower individuals to take charge of their personal development. These tools offer tailored feedback, goal-setting features, and progress monitoring capabilities, all designed to nurture a sense of agency in users. Furthermore, agentic principles are now integrated into leadership development programs, highlighting the significance of self-efficacy, goal-setting, and resilience in effective leadership.\n",
      "\n",
      "## Key Players in Agentic Frameworks\n",
      "Agentic frameworks are deeply rooted in Bandura's social cognitive theory, underscoring the importance of self-regulation, self-efficacy, and observational learning in human behavior. Organizations are progressively embracing agentic frameworks in their operations to empower employees, enhance decision-making processes, and cultivate a culture of innovation. By embracing the principles of agentic frameworks, organizations can establish a more vibrant and adaptable work environment.\n",
      "\n",
      "## Noteworthy News on Agentic Frameworks\n",
      "Case studies demonstrating successful implementation of agentic frameworks illustrate the positive impact on individual and organizational outcomes. Research findings reveal that organizations prioritizing employee empowerment and autonomy witness heightened levels of job satisfaction, productivity, and creativity. Through the implementation of agentic frameworks, organizations can unleash the full potential of their employees and drive sustainable growth.\n",
      "\n",
      "## Target Audience Analysis\n",
      "Professionals in psychology, leadership development, and organizational behavior can derive significant benefits from understanding agentic frameworks and applying them in their practice. Individuals keen on personal growth and empowerment can leverage agentic principles to steer their own development and achieve their objectives. Organizations aiming to enhance employee engagement and performance can harness agentic frameworks to establish a more positive and fruitful work environment.\n",
      "\n",
      "## Conclusion\n",
      "In conclusion, agentic frameworks provide a robust foundation for personal and organizational growth. By incorporating SEO keywords like agentic frameworks, Bandura's social cognitive theory, empowerment in organizations, and leadership development with agentic principles, we can broaden our reach and establish ourselves as a reliable source of information in this domain. For further insights on leveraging agentic frameworks for personal and organizational growth, subscribe to our newsletter for regular updates and exclusive content.\u001b[0m\n",
      "\n",
      "\u001b[1m> Finished chain.\u001b[0m\n",
      "\u001b[1m\u001b[92m [DEBUG]: == [Editor] Task output: # Understanding Agentic Frameworks: Empowering Personal and Organizational Growth\n",
      "\n",
      "## Introduction\n",
      "Agentic frameworks play a vital role in today's society, representing the belief in one's capability to influence their own motivation, behavior, and social surroundings. The comprehension of agentic frameworks is fundamental for individuals and organizations striving for personal growth and empowerment. By grasping the core principles of agentic frameworks, individuals can enhance their leadership skills, while organizations can elevate employee engagement and performance.\n",
      "\n",
      "## Latest Trends in Agentic Frameworks\n",
      "One of the current trends in agentic frameworks is the emergence of digital tools that empower individuals to take charge of their personal development. These tools offer tailored feedback, goal-setting features, and progress monitoring capabilities, all designed to nurture a sense of agency in users. Furthermore, agentic principles are now integrated into leadership development programs, highlighting the significance of self-efficacy, goal-setting, and resilience in effective leadership.\n",
      "\n",
      "## Key Players in Agentic Frameworks\n",
      "Agentic frameworks are deeply rooted in Bandura's social cognitive theory, underscoring the importance of self-regulation, self-efficacy, and observational learning in human behavior. Organizations are progressively embracing agentic frameworks in their operations to empower employees, enhance decision-making processes, and cultivate a culture of innovation. By embracing the principles of agentic frameworks, organizations can establish a more vibrant and adaptable work environment.\n",
      "\n",
      "## Noteworthy News on Agentic Frameworks\n",
      "Case studies demonstrating successful implementation of agentic frameworks illustrate the positive impact on individual and organizational outcomes. Research findings reveal that organizations prioritizing employee empowerment and autonomy witness heightened levels of job satisfaction, productivity, and creativity. Through the implementation of agentic frameworks, organizations can unleash the full potential of their employees and drive sustainable growth.\n",
      "\n",
      "## Target Audience Analysis\n",
      "Professionals in psychology, leadership development, and organizational behavior can derive significant benefits from understanding agentic frameworks and applying them in their practice. Individuals keen on personal growth and empowerment can leverage agentic principles to steer their own development and achieve their objectives. Organizations aiming to enhance employee engagement and performance can harness agentic frameworks to establish a more positive and fruitful work environment.\n",
      "\n",
      "## Conclusion\n",
      "In conclusion, agentic frameworks provide a robust foundation for personal and organizational growth. By incorporating SEO keywords like agentic frameworks, Bandura's social cognitive theory, empowerment in organizations, and leadership development with agentic principles, we can broaden our reach and establish ourselves as a reliable source of information in this domain. For further insights on leveraging agentic frameworks for personal and organizational growth, subscribe to our newsletter for regular updates and exclusive content.\n",
      "\n",
      "\u001b[00m\n"
     ]
    }
   ],
   "source": [
    "topic = \"Agentic Frameworks\"\n",
    "result = crew.kickoff(inputs={\"topic\": topic})"
   ]
  },
  {
   "cell_type": "code",
   "execution_count": 14,
   "metadata": {
    "height": 30
   },
   "outputs": [
    {
     "data": {
      "text/markdown": [
       "# Understanding Agentic Frameworks: Empowering Personal and Organizational Growth\n",
       "\n",
       "## Introduction\n",
       "Agentic frameworks play a vital role in today's society, representing the belief in one's capability to influence their own motivation, behavior, and social surroundings. The comprehension of agentic frameworks is fundamental for individuals and organizations striving for personal growth and empowerment. By grasping the core principles of agentic frameworks, individuals can enhance their leadership skills, while organizations can elevate employee engagement and performance.\n",
       "\n",
       "## Latest Trends in Agentic Frameworks\n",
       "One of the current trends in agentic frameworks is the emergence of digital tools that empower individuals to take charge of their personal development. These tools offer tailored feedback, goal-setting features, and progress monitoring capabilities, all designed to nurture a sense of agency in users. Furthermore, agentic principles are now integrated into leadership development programs, highlighting the significance of self-efficacy, goal-setting, and resilience in effective leadership.\n",
       "\n",
       "## Key Players in Agentic Frameworks\n",
       "Agentic frameworks are deeply rooted in Bandura's social cognitive theory, underscoring the importance of self-regulation, self-efficacy, and observational learning in human behavior. Organizations are progressively embracing agentic frameworks in their operations to empower employees, enhance decision-making processes, and cultivate a culture of innovation. By embracing the principles of agentic frameworks, organizations can establish a more vibrant and adaptable work environment.\n",
       "\n",
       "## Noteworthy News on Agentic Frameworks\n",
       "Case studies demonstrating successful implementation of agentic frameworks illustrate the positive impact on individual and organizational outcomes. Research findings reveal that organizations prioritizing employee empowerment and autonomy witness heightened levels of job satisfaction, productivity, and creativity. Through the implementation of agentic frameworks, organizations can unleash the full potential of their employees and drive sustainable growth.\n",
       "\n",
       "## Target Audience Analysis\n",
       "Professionals in psychology, leadership development, and organizational behavior can derive significant benefits from understanding agentic frameworks and applying them in their practice. Individuals keen on personal growth and empowerment can leverage agentic principles to steer their own development and achieve their objectives. Organizations aiming to enhance employee engagement and performance can harness agentic frameworks to establish a more positive and fruitful work environment.\n",
       "\n",
       "## Conclusion\n",
       "In conclusion, agentic frameworks provide a robust foundation for personal and organizational growth. By incorporating SEO keywords like agentic frameworks, Bandura's social cognitive theory, empowerment in organizations, and leadership development with agentic principles, we can broaden our reach and establish ourselves as a reliable source of information in this domain. For further insights on leveraging agentic frameworks for personal and organizational growth, subscribe to our newsletter for regular updates and exclusive content."
      ],
      "text/plain": [
       "<IPython.core.display.Markdown object>"
      ]
     },
     "execution_count": 14,
     "metadata": {},
     "output_type": "execute_result"
    }
   ],
   "source": [
    "Markdown(result)"
   ]
  },
  {
   "cell_type": "markdown",
   "metadata": {},
   "source": [
    "<a name='1'></a>\n",
    " ## Other Popular Models as LLM for your Agents"
   ]
  },
  {
   "cell_type": "markdown",
   "metadata": {},
   "source": [
    "#### Hugging Face (HuggingFaceHub endpoint)\n",
    "\n",
    "```Python\n",
    "from langchain_community.llms import HuggingFaceHub\n",
    "\n",
    "llm = HuggingFaceHub(\n",
    "    repo_id=\"HuggingFaceH4/zephyr-7b-beta\",\n",
    "    huggingfacehub_api_token=\"<HF_TOKEN_HERE>\",\n",
    "    task=\"text-generation\",\n",
    ")\n",
    "\n",
    "### you will pass \"llm\" to your agent function\n",
    "```"
   ]
  },
  {
   "cell_type": "markdown",
   "metadata": {},
   "source": [
    "#### Mistral API\n",
    "\n",
    "```Python\n",
    "OPENAI_API_KEY=your-mistral-api-key\n",
    "OPENAI_API_BASE=https://api.mistral.ai/v1\n",
    "OPENAI_MODEL_NAME=\"mistral-small\"\n",
    "```"
   ]
  },
  {
   "cell_type": "markdown",
   "metadata": {},
   "source": [
    "#### Cohere\n",
    "\n",
    "```Python\n",
    "from langchain_community.chat_models import ChatCohere\n",
    "# Initialize language model\n",
    "os.environ[\"COHERE_API_KEY\"] = \"your-cohere-api-key\"\n",
    "llm = ChatCohere()\n",
    "\n",
    "### you will pass \"llm\" to your agent function\n",
    "```"
   ]
  },
  {
   "cell_type": "markdown",
   "metadata": {},
   "source": [
    "### For using Llama locally with Ollama and more, checkout the crewAI documentation on [Connecting to any LLM](https://docs.crewai.com/how-to/LLM-Connections/)."
   ]
  },
  {
   "cell_type": "code",
   "execution_count": null,
   "metadata": {
    "height": 30
   },
   "outputs": [],
   "source": []
  },
  {
   "cell_type": "code",
   "execution_count": null,
   "metadata": {
    "height": 30
   },
   "outputs": [],
   "source": []
  },
  {
   "cell_type": "code",
   "execution_count": null,
   "metadata": {
    "height": 30
   },
   "outputs": [],
   "source": []
  }
 ],
 "metadata": {
  "colab": {
   "gpuType": "T4",
   "provenance": []
  },
  "kernelspec": {
   "display_name": "crewai",
   "language": "python",
   "name": "python3"
  },
  "language_info": {
   "codemirror_mode": {
    "name": "ipython",
    "version": 3
   },
   "file_extension": ".py",
   "mimetype": "text/x-python",
   "name": "python",
   "nbconvert_exporter": "python",
   "pygments_lexer": "ipython3",
   "version": "3.10.15"
  }
 },
 "nbformat": 4,
 "nbformat_minor": 4
}
